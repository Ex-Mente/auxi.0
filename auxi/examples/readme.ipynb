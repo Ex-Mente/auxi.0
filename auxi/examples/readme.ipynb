{
 "metadata": {
  "name": "",
  "signature": "sha256:70491762c850ccfa8c168d5ce00e4f4458d8af344818af4ae87757530a0f977c"
 },
 "nbformat": 3,
 "nbformat_minor": 0,
 "worksheets": [
  {
   "cells": [
    {
     "cell_type": "heading",
     "level": 1,
     "metadata": {},
     "source": [
      "README: auxi Examples"
     ]
    }
   ],
   "metadata": {}
  }
 ]
}
