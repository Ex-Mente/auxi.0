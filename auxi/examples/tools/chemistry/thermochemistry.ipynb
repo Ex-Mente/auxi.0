{
 "cells": [
  {
   "cell_type": "markdown",
   "metadata": {},
   "source": [
    "# Thermochemical Calculations\n",
    "\n",
    "## Preparing Thermochemical Data\n",
    "\n",
    "The `auxi.tools.chemistry.thermochemistry` module provides a number of useful functions for doing thermochemical calculations that would otherwise have been quite cumbersome to do. To make these calculations possible, some thermochemical data is needed. The `auxi` distribution package currently contains data for around 80 compounds. This may, however, not be sufficient for your process calculations. FactSage data can be converted into auxi thermochemical data using the `auxi.tools.chemistry.thermochemistry.convert_fact_file_to_auxi_thermo_file` function.\n",
    "\n",
    "To prepare your own compound data files with FactSage, follow these steps:\n",
    "\n",
    "Open FactSage.\n",
    "Click on the \"View Data\" button.\n",
    "Select the \"Compound\" option, NOT \"Solution\".\n",
    "Select the database that you want to use. \"FactPS\" should be OK.\n",
    "Type the formula of the compound you need in the box at the bottom.\n",
    "Click OK.\n",
    "Click on the \"Cp(T)\" tab.\n",
    "Select \"File\" from the menu and then \"Save As ...\".\n",
    "Select the folder where you want to store all your thermochemical data files.\n",
    "The filename must have a specific format. Taking \"Ar\" as an example, use \"Compound_Ar.txt\" for the file name.\n",
    "Click \"Save\".\n",
    "You will have to repeat this procedure for all the compounds that you need to include in your calculations.\n",
    "\n",
    "To convert the factsage file to an auxi thermochemical file use the following code:"
   ]
  },
  {
   "cell_type": "code",
   "execution_count": 15,
   "metadata": {
    "collapsed": false
   },
   "outputs": [],
   "source": [
    "from auxi.tools.chemistry import thermochemistry as thermo\n",
    "\n",
    "#TODO: The following line of code is not working, and must be fixed.\n",
    "#thermo.convert_fact_file_to_auxi_thermo_file(\"path/to/factsage_file\", \"path/to/new_auxi_thermo_file\")"
   ]
  },
  {
   "cell_type": "markdown",
   "metadata": {},
   "source": [
    "## Loading Thermochemical Data\n",
    "If you are going to use the default set of data provided with auxi, you do not need to do anything. The entire data set will be available by default. You can obtain a list of all the compounds and their phases by using the following code:"
   ]
  },
  {
   "cell_type": "code",
   "execution_count": 16,
   "metadata": {
    "collapsed": false
   },
   "outputs": [
    {
     "name": "stdout",
     "output_type": "stream",
     "text": [
      "Compounds currently loaded:\n",
      "Ag[L]\n",
      "Ag[S]\n",
      "AgCl[L]\n",
      "AgCl[S]\n",
      "AgI[S1]\n",
      "Al[G]\n",
      "Al[L]\n",
      "Al[S]\n",
      "Al2O3[S]\n",
      "AlSb[S]\n",
      "As[S]\n",
      "As2O3[S]\n",
      "As4[S]\n",
      "Br2[G]\n",
      "C[Sgr]\n",
      "CH4[G]\n",
      "CO2[G]\n",
      "COCl2[G]\n",
      "COS[G]\n",
      "Ca[L]\n",
      "Ca[S1]\n",
      "Ca[S2]\n",
      "CaCO3[S]\n",
      "CaO[S]\n",
      "CaS[S]\n",
      "CaSiO3[S]\n",
      "Cd[G]\n",
      "Cd[L]\n",
      "Cd[S]\n",
      "CdO[S]\n",
      "CdS[S]\n",
      "Cl2[G]\n",
      "Co[L]\n",
      "Co[Salpha]\n",
      "Co[Sbeta]\n",
      "CoO[S]\n",
      "Cr[L]\n",
      "Cr[S]\n",
      "Cu[G]\n",
      "Cu[L]\n",
      "Cu[S]\n",
      "Cu2O[S]\n",
      "Cu2S[Salpha]\n",
      "CuO[S]\n",
      "CuS[S]\n",
      "CuSO4[S]\n",
      "F2[G]\n",
      "Fe[G]\n",
      "Fe[L]\n",
      "Fe[Salpha]\n",
      "Fe[Sbeta]\n",
      "Fe[Sgamma]\n",
      "Fe2O3[Salpha]\n",
      "Fe3O4[Salpha]\n",
      "FeO[S]\n",
      "FeS[Salpha]\n",
      "H2[G]\n",
      "H2O[G]\n",
      "H2O[L]\n",
      "H2S[G]\n",
      "HBr[G]\n",
      "HCl[G]\n",
      "HI[G]\n",
      "I2[G]\n",
      "K2CO3[S]\n",
      "Mg[G]\n",
      "Mg[L]\n",
      "Mg[S]\n",
      "MgCO3[S]\n",
      "MgO[S]\n",
      "N2[G]\n",
      "NH3[G]\n",
      "Na2CO3[S]\n",
      "Ni[L]\n",
      "Ni[Salpha]\n",
      "Ni[Sbeta]\n",
      "Ni3S2[Salpha]\n",
      "NiO[Salpha]\n",
      "NiS[Salpha]\n",
      "O2[G]\n",
      "Pb[G]\n",
      "Pb[L]\n",
      "Pb[S]\n",
      "PbO[L]\n",
      "PbO[Sred]\n",
      "PbO[Syellow]\n",
      "S[Smono]\n",
      "S[Sortho]\n",
      "S2[G]\n",
      "SO2[G]\n",
      "SO3[G]\n",
      "Sb[L]\n",
      "Sb[S]\n",
      "Si[L]\n",
      "Si[S]\n",
      "SiO2[S]\n",
      "Sn[L]\n",
      "Sn[Sgray]\n",
      "Sn[Swhite]\n",
      "SnO2[S]\n",
      "Ti[Salpha]\n",
      "Ti[Sbeta]\n",
      "TiO2[Srutile]\n",
      "U[Salpha]\n",
      "UO2[S]\n",
      "V[S]\n",
      "W[S]\n",
      "Zn[G]\n",
      "Zn[L]\n",
      "Zn[S]\n",
      "ZnO[S]\n",
      "ZnS[S]\n",
      "Zr[Salpha]\n",
      "ZrO2[S1]\n"
     ]
    }
   ],
   "source": [
    "thermo.list_compounds()"
   ]
  },
  {
   "cell_type": "markdown",
   "metadata": {
    "collapsed": true
   },
   "source": [
    "The result lists all the compounds with the phases for which data are available. Taking the compound SiO2 as an example, data are available for eight solid phases (S1 to S8), for the liquid phase and for the gas phase.\n",
    "\n",
    "If you have decided to create you own data folder, you can force `auxi` to use the data in that folder. Here is the code for this:\n"
   ]
  },
  {
   "cell_type": "code",
   "execution_count": 23,
   "metadata": {
    "collapsed": false
   },
   "outputs": [
    {
     "name": "stdout",
     "output_type": "stream",
     "text": [
      "Compounds currently loaded:\n",
      "CO[G1]\n",
      "CO[G2]\n",
      "CO2[G1]\n",
      "CO2[G2]\n",
      "Fe[G]\n",
      "Fe[L]\n",
      "Fe[S (gamma)]\n",
      "Fe[S1 (alp â delt)]\n",
      "Fe[S2 (alp â delt)]\n",
      "Fe[S3 (alp â delt)]\n",
      "Fe[S4 (alp â delt)]\n",
      "Fe2O3[S1]\n",
      "Fe2O3[S2]\n",
      "Fe2O3[S3]\n"
     ]
    }
   ],
   "source": [
    "thermo.load_data_auxi('data')\n",
    "thermo.list_compounds()"
   ]
  },
  {
   "cell_type": "markdown",
   "metadata": {
    "collapsed": true
   },
   "source": [
    "## Calculating Heat Capacity\n",
    "\n",
    "The `auxi.tools.chemistry.thermochemistry.Cp` function in the `auxi.tools.chemistry.thermochemistry` module can be used to calculate the heat capacity at constant pressure for a compound. This can be done as follows:"
   ]
  },
  {
   "cell_type": "code",
   "execution_count": 22,
   "metadata": {
    "collapsed": false
   },
   "outputs": [
    {
     "name": "stdout",
     "output_type": "stream",
     "text": [
      "The Cp of 1 kg of water at 70 °C is 0.0011631792567198512 kWh/K.\n",
      "The Cp of 1 kg of water vapour at 70 °C is 0.0005236292017203729 kWh/K.\n",
      "The Cp of 2.34 kg of ZrO2[S1] at 893.5 °C is 0.00040815389961453013 kWh/K.\n"
     ]
    }
   ],
   "source": [
    "thermo.load_data_auxi()\n",
    "\n",
    "Cp_H2O = thermo.Cp(\"H2O[L]\", 70.0)\n",
    "print(\"The Cp of 1 kg of water at 70 °C is\", Cp_H2O, \"kWh/K.\")\n",
    "\n",
    "Cp_H2O = thermo.Cp(\"H2O[G]\", 70.0)\n",
    "print(\"The Cp of 1 kg of water vapour at 70 °C is\", Cp_H2O, \"kWh/K.\")\n",
    "\n",
    "m_ZrO2 = 2.34\n",
    "Cp_ZrO2 = thermo.Cp(\"ZrO2[S1]\", 893.5, m_ZrO2)\n",
    "print(\"The Cp of 2.34 kg of ZrO2[S1] at 893.5 °C is\", Cp_ZrO2, \"kWh/K.\")"
   ]
  },
  {
   "cell_type": "markdown",
   "metadata": {},
   "source": [
    "The first parameter to the function must specify both the compound's formula and phase. If the phase is not specified it is impossible to calculate a result. The heat capacity of water is clearly significantly different from that of water vapour.\n",
    "\n",
    "The last parameter of the `auxi.tools.chemistry.thermochemistry.Cp` is mass and it is optional. If no value is specified, it is taken to be 1 kg. This was the case for the first two calculations above. A mass of 2.34 kg was specified in the last Cp calculation.\n"
   ]
  },
  {
   "cell_type": "markdown",
   "metadata": {},
   "source": [
    "## Calculating Enthalpy\n",
    "\n",
    "The `auxi.tools.chemistry.thermochemistry.H` function in `auxi.tools.chemistry.thermochemistry` is used to calculate the enthalpy of a compound. This can be done as follows:\n",
    "\n"
   ]
  },
  {
   "cell_type": "code",
   "execution_count": 7,
   "metadata": {
    "collapsed": false
   },
   "outputs": [
    {
     "name": "stdout",
     "output_type": "stream",
     "text": [
      "The enthalpy of 1 kg of water at 70 °C is -4.354872487256496 kWh.\n",
      "The enthalpy of 1 kg of water vapour at 70 °C is -3.7051065308333224 kWh.\n",
      "The enthalpy of 2.34 kg of ZrO2[S1] at 893.5 °C is -5.481055002835159 kWh.\n"
     ]
    }
   ],
   "source": [
    "H_H2O = thermo.H(\"H2O[L]\", 70.0)\n",
    "print(\"The enthalpy of 1 kg of water at 70 °C is\", H_H2O, \"kWh.\")\n",
    "\n",
    "H_H2O = thermo.H(\"H2O[G]\", 70.0)\n",
    "print(\"The enthalpy of 1 kg of water vapour at 70 °C is\", H_H2O, \"kWh.\")\n",
    "\n",
    "m_ZrO2 = 2.34\n",
    "H_ZrO2 = thermo.H(\"ZrO2[S1]\", 893.5, m_ZrO2)\n",
    "print(\"The enthalpy of 2.34 kg of ZrO2[S1] at 893.5 °C is\", H_ZrO2, \"kWh.\")"
   ]
  },
  {
   "cell_type": "markdown",
   "metadata": {},
   "source": [
    "The parameters to the `auxi.tools.chemistry.thermochemistry.H` function works the same as that of the `auxi.tools.chemistry.thermochemistry.Cp` function. Both formula and phase are required in the first parameter, the second is temperature in °C and the third is mass, which is optional with a default value of 1 kg."
   ]
  },
  {
   "cell_type": "markdown",
   "metadata": {},
   "source": [
    "## Calculating Entropy\n",
    "\n",
    "The `auxi.tools.chemistry.thermochemistry.S` function in `auxi.tools.chemistry.thermochemistry` is used to calculate the entropy of a compound. This can be done as follows:"
   ]
  },
  {
   "cell_type": "code",
   "execution_count": 8,
   "metadata": {
    "collapsed": false
   },
   "outputs": [
    {
     "name": "stdout",
     "output_type": "stream",
     "text": [
      "The entropy of 1 kg of water at 70 °C is 0.0012420689488107494 kWh/K.\n",
      "The entropy of 1 kg of water vapour at 70 °C is 0.002983105071775651 kWh/K.\n",
      "The entropy of 2.34 kg of ZrO2[S1] at 893.5 °C is 0.0007640561418848722 kWh/K.\n"
     ]
    }
   ],
   "source": [
    "S_H2O = thermo.S(\"H2O[L]\", 70.0)\n",
    "print(\"The entropy of 1 kg of water at 70 °C is\", S_H2O, \"kWh/K.\")\n",
    "\n",
    "S_H2O = thermo.S(\"H2O[G]\", 70.0)\n",
    "print(\"The entropy of 1 kg of water vapour at 70 °C is\", S_H2O, \"kWh/K.\")\n",
    "\n",
    "m_ZrO2 = 2.34\n",
    "S_ZrO2 = thermo.S(\"ZrO2[S1]\", 893.5, m_ZrO2)\n",
    "print(\"The entropy of 2.34 kg of ZrO2[S1] at 893.5 °C is\", S_ZrO2, \"kWh/K.\")"
   ]
  },
  {
   "cell_type": "markdown",
   "metadata": {},
   "source": [
    "\n",
    "The parameters to the :py:func:`auxi.tools.chemistry.thermochemistry.S` function works the same as that of the `auxi.tools.chemistry.thermochemistry.Cp` function. Both formula and phase are required in the first parameter, the second is temperature in °C and the third is mass, which is optional with a default value of 1 kg.\n",
    "\n"
   ]
  },
  {
   "cell_type": "markdown",
   "metadata": {},
   "source": [
    "## Calculating Gibbs Free Energy\n",
    "\n",
    "The `auxi.tools.chemistry.thermochemistry.G` function in `auxi.tools.chemistry.thermochemistry` is used to calculate the Gibbs free energy of a compound. This can be done as follows:"
   ]
  },
  {
   "cell_type": "code",
   "execution_count": 9,
   "metadata": {
    "collapsed": false
   },
   "outputs": [
    {
     "name": "stdout",
     "output_type": "stream",
     "text": [
      "The Gibbs free energy of 1 kg of water at 70 °C is -4.781088447040905 kWh.\n",
      "The Gibbs free energy of 1 kg of water vapour at 70 °C is -4.728759036213137 kWh.\n",
      "The Gibbs free energy of 2.34 kg of ZrO2[S1] at 893.5 °C is -6.372441100765146 kWh.\n"
     ]
    }
   ],
   "source": [
    "G_H2O = thermo.G(\"H2O[L]\", 70.0)\n",
    "print(\"The Gibbs free energy of 1 kg of water at 70 °C is\", G_H2O,\n",
    "    \"kWh.\")\n",
    "\n",
    "G_H2O = thermo.G(\"H2O[G]\", 70.0)\n",
    "print(\"The Gibbs free energy of 1 kg of water vapour at 70 °C is\", G_H2O,\n",
    "    \"kWh.\")\n",
    "\n",
    "m_ZrO2 = 2.34\n",
    "G_ZrO2 = thermo.G(\"ZrO2[S1]\", 893.5, m_ZrO2)\n",
    "print(\"The Gibbs free energy of 2.34 kg of ZrO2[S1] at 893.5 °C is\", G_ZrO2,\n",
    "    \"kWh.\")"
   ]
  },
  {
   "cell_type": "markdown",
   "metadata": {},
   "source": [
    "The parameters to the `auxi.tools.chemistry.thermochemistry.G` function works the same as that of the `auxi.tools.chemistry.thermochemistry.Cp` function. Both formula and phase are required in the first parameter, the second is temperature in °C and the third is mass, which is optional with a default value of 1 kg."
   ]
  }
 ],
 "metadata": {
  "anaconda-cloud": {},
  "kernelspec": {
   "display_name": "Python 3",
   "language": "python",
   "name": "python3"
  },
  "language_info": {
   "codemirror_mode": {
    "name": "ipython",
    "version": 3
   },
   "file_extension": ".py",
   "mimetype": "text/x-python",
   "name": "python",
   "nbconvert_exporter": "python",
   "pygments_lexer": "ipython3",
   "version": "3.5.1"
  }
 },
 "nbformat": 4,
 "nbformat_minor": 0
}
