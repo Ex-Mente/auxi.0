{
 "cells": [
  {
   "cell_type": "markdown",
   "metadata": {},
   "source": [
    "# Working with `auxi`'s Material Physical Property `DataSet`s\n",
    "\n",
    "## Purpose\n",
    "The purpose of this example is to introduce and demonstrate the `DataSet` class in `auxi`'s material physical property tools package."
   ]
  },
  {
   "cell_type": "markdown",
   "metadata": {},
   "source": [
    "## Background\n",
    "Material physical property models are created based on sets of data that are determined experimentally. One can also test an existing property model against a data set to determine how well the model describes the physical property in question. In `auxi` these data sets are stored in csv files that have a specific format required by `auxi`. The `DataSet` class makes it easy to create, store, read, and use these data sets from inside the Python environment."
   ]
  },
  {
   "cell_type": "markdown",
   "metadata": {},
   "source": [
    "## Items Covered\n",
    "The following items in `auxi` are discussed and demonstrated in this example:\n",
    "* `auxi.tools.materialproperties.core.DataSet`"
   ]
  },
  {
   "cell_type": "markdown",
   "metadata": {},
   "source": [
    "## Example Scope\n",
    "In this example we will address the following aspects:\n",
    "1. Importing the `DataSet` class.\n",
    "2. How to create your own physical property data set csv file with the `create_template()` method.\n",
    "3. Reading your data set csv file into a Dataset object.\n",
    "4. How to use the data sets for materials that are included in `auxi`."
   ]
  },
  {
   "cell_type": "markdown",
   "metadata": {},
   "source": [
    "## Demonstrations\n",
    "\n",
    "### Importing the `DataSet` Class\n",
    "Before you can use that `DataSet` class, you need to import it from `auxi`."
   ]
  },
  {
   "cell_type": "code",
   "execution_count": null,
   "metadata": {
    "collapsed": false
   },
   "outputs": [],
   "source": [
    "from auxi.tools.materialphysicalproperties.core import DataSet"
   ]
  },
  {
   "cell_type": "markdown",
   "metadata": {},
   "source": [
    "You are now ready to use the `DataSet` class.\n",
    "\n",
    "### Creating Your Own Data Set\n",
    "The `DataSet`'s `create_template` method makes it easy to create your own physical property data set. You only provide the `material`, `path`, and `show` parameters. A csv file will then be generated, and it will be automatically opened in your default csv editor if you set `show` to `True`.\n",
    "\n",
    "In this csv file you would see text between `< >` signs. This indicates which text you should edit, like parameter name, units, symbol and values."
   ]
  },
  {
   "cell_type": "code",
   "execution_count": null,
   "metadata": {
    "collapsed": false
   },
   "outputs": [],
   "source": [
    "path = '../../temp'\n",
    "material = 'auxiite'\n",
    "\n",
    "DataSet.create_template(material, path, show=True)"
   ]
  },
  {
   "cell_type": "markdown",
   "metadata": {},
   "source": [
    "You can now edit the data set and save it for further use.\n",
    "\n",
    "### Reading Your Data Set\n",
    "To read your data set into a `DataSet` object, you do the following:"
   ]
  },
  {
   "cell_type": "code",
   "execution_count": null,
   "metadata": {
    "collapsed": false,
    "scrolled": true
   },
   "outputs": [],
   "source": [
    "dataset = DataSet('data/dataset-auxiite2.csv')"
   ]
  },
  {
   "cell_type": "markdown",
   "metadata": {},
   "source": [
    "We can now use the content of the `DataSet` object. For this example, we will print the different variables inside the object. These include:\n",
    "* Material name\n",
    "* Data set description\n",
    "* Reference\n",
    "* List of names, symbols, display symbols, and units for the columns in the data set"
   ]
  },
  {
   "cell_type": "code",
   "execution_count": null,
   "metadata": {
    "collapsed": false
   },
   "outputs": [],
   "source": [
    "print('Material:         ', dataset.material)\n",
    "print('Description:      ', dataset.description)\n",
    "print('References:       ', dataset.reference)\n",
    "print('Properties:       ', dataset.col_names)\n",
    "print('Symbols:          ', dataset.col_symbols)\n",
    "print('Display symbols:  ', dataset.display_symbols_dict)\n",
    "print('Units:            ', dataset.col_units)\n",
    "print('Data:')\n",
    "print(dataset.data)"
   ]
  },
  {
   "cell_type": "markdown",
   "metadata": {},
   "source": [
    "You can also print the content of the data set by simply doing the following:"
   ]
  },
  {
   "cell_type": "code",
   "execution_count": null,
   "metadata": {
    "collapsed": false
   },
   "outputs": [],
   "source": [
    "print(dataset)"
   ]
  },
  {
   "cell_type": "markdown",
   "metadata": {
    "collapsed": true
   },
   "source": [
    "### Using `auxi`'s Own Data Sets\n",
    "For convenience `auxi` contains a number of material physical property data sets that you can easily access and use. These are contained in the `gases` and `liquids` modules in the `auxi.tools.materialproperties` package.\n",
    "\n",
    "Let's look at the data set for air."
   ]
  },
  {
   "cell_type": "code",
   "execution_count": null,
   "metadata": {
    "collapsed": false
   },
   "outputs": [],
   "source": [
    "from auxi.tools.materialphysicalproperties.gases import air_dataset\n",
    "print(air_dataset)"
   ]
  },
  {
   "cell_type": "markdown",
   "metadata": {},
   "source": [
    "There is also a data set for water."
   ]
  },
  {
   "cell_type": "code",
   "execution_count": null,
   "metadata": {
    "collapsed": false,
    "scrolled": true
   },
   "outputs": [],
   "source": [
    "from auxi.tools.materialphysicalproperties.liquids import h2o_dataset\n",
    "print(h2o_dataset)"
   ]
  }
 ],
 "metadata": {
  "kernelspec": {
   "display_name": "Python 3",
   "language": "python",
   "name": "python3"
  },
  "language_info": {
   "codemirror_mode": {
    "name": "ipython",
    "version": 3
   },
   "file_extension": ".py",
   "mimetype": "text/x-python",
   "name": "python",
   "nbconvert_exporter": "python",
   "pygments_lexer": "ipython3",
   "version": "3.5.1"
  }
 },
 "nbformat": 4,
 "nbformat_minor": 0
}
