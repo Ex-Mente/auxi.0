{
 "cells": [
  {
   "cell_type": "markdown",
   "metadata": {},
   "source": [
    "# Thermochemical Calculations\n",
    "\n",
    "Preparing Thermochemical Data\n",
    "\n",
    "The :py:mod:`auxi.tools.chemistry.thermochemistry` module provides a number of useful functions for doing thermochemical calculations that would otherwise have been quite cumbersome to do. To make these calculations possible, some thermochemical data is needed. The :py:mod:`auxi` distribution package currently contains data for around 80 compounds. This may, however, not be sufficient for your process calculations. FactSage data can be converted into auxi thermochemical data using the :py:func:`~.auxi.tools.chemistry.thermochemistry.convert_fact_file_to_auxi_thermo_file` function.\n",
    "\n",
    "To prepare your own compound data files with FactSage, follow these steps:\n",
    "\n",
    "Open FactSage.\n",
    "Click on the \"View Data\" button.\n",
    "Select the \"Compound\" option, NOT \"Solution\".\n",
    "Select the database that you want to use. \"FactPS\" should be OK.\n",
    "Type the formula of the compound you need in the box at the bottom.\n",
    "Click OK.\n",
    "Click on the \"Cp(T)\" tab.\n",
    "Select \"File\" from the menu and then \"Save As ...\".\n",
    "Select the folder where you want to store all your thermochemical data files.\n",
    "The filename must have a specific format. Taking \"Ar\" as an example, use \"Compound_Ar.txt\" for the file name.\n",
    "Click \"Save\".\n",
    "You will have to repeat this procedure for all the compounds that you need to include in your calculations.\n",
    "\n",
    "To convert the factsage file to an auxi thermochemical file use the following code:\n",
    "\n"
   ]
  },
  {
   "cell_type": "code",
   "execution_count": 1,
   "metadata": {
    "collapsed": false
   },
   "outputs": [
    {
     "ename": "AttributeError",
     "evalue": "module 'auxi.tools.chemistry.thermochemistry' has no attribute 'convert_fact_file_to_auxi_thermo_file'",
     "output_type": "error",
     "traceback": [
      "\u001b[1;31m---------------------------------------------------------------------------\u001b[0m",
      "\u001b[1;31mAttributeError\u001b[0m                            Traceback (most recent call last)",
      "\u001b[1;32m<ipython-input-1-a2bfe7a0e6fe>\u001b[0m in \u001b[0;36m<module>\u001b[1;34m()\u001b[0m\n\u001b[0;32m      1\u001b[0m \u001b[1;32mfrom\u001b[0m \u001b[0mauxi\u001b[0m\u001b[1;33m.\u001b[0m\u001b[0mtools\u001b[0m\u001b[1;33m.\u001b[0m\u001b[0mchemistry\u001b[0m \u001b[1;32mimport\u001b[0m \u001b[0mthermochemistry\u001b[0m \u001b[1;32mas\u001b[0m \u001b[0mthermo\u001b[0m\u001b[1;33m\u001b[0m\u001b[0m\n\u001b[0;32m      2\u001b[0m \u001b[1;33m\u001b[0m\u001b[0m\n\u001b[1;32m----> 3\u001b[1;33m \u001b[0mthermo\u001b[0m\u001b[1;33m.\u001b[0m\u001b[0mconvert_fact_file_to_auxi_thermo_file\u001b[0m\u001b[1;33m(\u001b[0m\u001b[1;34m\"path/to/factsage_file\"\u001b[0m\u001b[1;33m,\u001b[0m \u001b[1;34m\"path/to/new_auxi_thermo_file\"\u001b[0m\u001b[1;33m)\u001b[0m\u001b[1;33m\u001b[0m\u001b[0m\n\u001b[0m",
      "\u001b[1;31mAttributeError\u001b[0m: module 'auxi.tools.chemistry.thermochemistry' has no attribute 'convert_fact_file_to_auxi_thermo_file'"
     ]
    }
   ],
   "source": [
    "from auxi.tools.chemistry import thermochemistry as thermo\n",
    "\n",
    "thermo.convert_fact_file_to_auxi_thermo_file(\"path/to/factsage_file\", \"path/to/new_auxi_thermo_file\")\n"
   ]
  },
  {
   "cell_type": "markdown",
   "metadata": {},
   "source": [
    "# Loading Thermochemical Data\n",
    "If you are going to use the default set of data provided with auxi, you do not need to do anything. The entire data set will be available by default. You can obtain a list of all the compounds and their phases by using the following code:"
   ]
  },
  {
   "cell_type": "code",
   "execution_count": null,
   "metadata": {
    "collapsed": true
   },
   "outputs": [],
   "source": [
    "from auxi.tools.chemistry import thermochemistry as thermo\n",
    "\n",
    "thermo.list_compounds()\n",
    "#Here are the first few lines of the result:"
   ]
  },
  {
   "cell_type": "code",
   "execution_count": null,
   "metadata": {
    "collapsed": true
   },
   "outputs": [],
   "source": [
    "The result lists all the compounds with the phases for which data are available. Taking the compound SiO2 as an example, data are available for eight solid phases (S1 to S8), for the liquid phase and for the gas phase.\n",
    "\n",
    "If you have decided to create you own data folder, you can force :py:mod:`auxi` to use the data in that folder. Here is the code for this:\n"
   ]
  },
  {
   "cell_type": "code",
   "execution_count": null,
   "metadata": {
    "collapsed": true
   },
   "outputs": [],
   "source": [
    "from auxi.tools.chemistry import thermochemistry as thermo\n",
    "\n",
    "thermo.load_data('/home/someuser/thermodata')\n",
    "thermo.list_compounds()\n",
    "#This example data folder only contains a small selection of files:\n"
   ]
  },
  {
   "cell_type": "code",
   "execution_count": null,
   "metadata": {
    "collapsed": true
   },
   "outputs": [],
   "source": [
    "Calculating Heat Capacity\n",
    "\n",
    "The :py:func:`~.auxi.tools.chemistry.thermochemistry.Cp` function in the :py:mod:`auxi.tools.chemistry.thermochemistry` module can be used to calculate the heat capacity at constant pressure for a compound. This can be done as follows:\n"
   ]
  },
  {
   "cell_type": "code",
   "execution_count": null,
   "metadata": {
    "collapsed": true
   },
   "outputs": [],
   "source": [
    "from auxi.tools.chemistry import thermochemistry as thermo\n",
    "\n",
    "Cp_H2O = thermo.Cp(\"H2O[L]\", 70.0)\n",
    "print(\"The Cp of 1 kg of water at 70 °C is\", Cp_H2O, \"kWh/K.\")\n",
    "\n",
    "Cp_H2O = thermo.Cp(\"H2O[G]\", 70.0)\n",
    "print(\"The Cp of 1 kg of water vapour at 70 °C is\", Cp_H2O, \"kWh/K.\")\n",
    "\n",
    "m_ZrO2 = 2.34\n",
    "Cp_ZrO2 = thermo.Cp(\"ZrO2[S1]\", 893.5, m_ZrO2)\n",
    "print(\"The Cp of 2.34 kg of ZrO2[S1] at 893.5 °C is\", Cp_ZrO2, \"kWh/K.\")\n",
    "#Here are the results:"
   ]
  },
  {
   "cell_type": "markdown",
   "metadata": {},
   "source": [
    "The first parameter to the function must specify both the compound's formula and phase. If the phase is not specified it is impossible to calculate a result. The heat capacity of water is clearly significantly different from that of water vapour.\n",
    "\n",
    "The last parameter of the :py:func:`~.auxi.tools.chemistry.thermochemistry.Cp` is mass and it is optional. If no value is specified, it is taken to be 1 kg. This was the case for the first two calculations above. A mass of 2.34 kg was specified in the last Cp calculation.\n"
   ]
  },
  {
   "cell_type": "markdown",
   "metadata": {},
   "source": [
    "# Calculating Enthalpy\n",
    "\n",
    "The :py:func:`~.auxi.tools.chemistry.thermochemistry.H` function in :py:mod:`~.auxi.tools.chemistry.thermochemistry` is used to calculate the enthalpy of a compound. This can be done as follows:\n",
    "\n"
   ]
  },
  {
   "cell_type": "code",
   "execution_count": null,
   "metadata": {
    "collapsed": true
   },
   "outputs": [],
   "source": [
    "\n",
    "from auxi.tools.chemistry import thermochemistry as thermo\n",
    "\n",
    "H_H2O = thermo.H(\"H2O[L]\", 70.0)\n",
    "print(\"The enthalpy of 1 kg of water at 70 °C is\", H_H2O, \"kWh.\")\n",
    "\n",
    "H_H2O = thermo.H(\"H2O[G]\", 70.0)\n",
    "print(\"The enthalpy of 1 kg of water vapour at 70 °C is\", H_H2O, \"kWh.\")\n",
    "\n",
    "m_ZrO2 = 2.34\n",
    "H_ZrO2 = thermo.H(\"ZrO2[S1]\", 893.5, m_ZrO2)\n",
    "print(\"The enthalpy of 2.34 kg of ZrO2[S1] at 893.5 °C is\", H_ZrO2, \"kWh.\")\n",
    "#Here are the results:\n"
   ]
  },
  {
   "cell_type": "markdown",
   "metadata": {},
   "source": [
    "The parameters to the :py:func:`~.auxi.tools.chemistry.thermochemistry.H` function works the same as that of the :py:func:`~.auxi.tools.chemistry.thermochemistry.Cp` function. Both formula and phase are required in the first parameter, the second is temperature in °C and the third is mass, which is optional with a default value of 1 kg."
   ]
  },
  {
   "cell_type": "markdown",
   "metadata": {},
   "source": [
    "# Calculating Entropy\n",
    "\n",
    "The :py:func:`~.auxi.tools.chemistry.thermochemistry.S` function in :py:mod:`~.auxi.tools.chemistry.thermochemistry` is used to calculate the entropy of a compound. This can be done as follows:"
   ]
  },
  {
   "cell_type": "code",
   "execution_count": null,
   "metadata": {
    "collapsed": true
   },
   "outputs": [],
   "source": [
    "from auxi.tools.chemistry import thermochemistry as thermo\n",
    "\n",
    "S_H2O = thermo.S(\"H2O[L]\", 70.0)\n",
    "print(\"The entropy of 1 kg of water at 70 °C is\", S_H2O, \"kWh/K.\")\n",
    "\n",
    "S_H2O = thermo.S(\"H2O[G]\", 70.0)\n",
    "print(\"The entropy of 1 kg of water vapour at 70 °C is\", S_H2O, \"kWh/K.\")\n",
    "\n",
    "m_ZrO2 = 2.34\n",
    "S_ZrO2 = thermo.S(\"ZrO2[S1]\", 893.5, m_ZrO2)\n",
    "print(\"The entropy of 2.34 kg of ZrO2[S1] at 893.5 °C is\", S_ZrO2, \"kWh/K.\")\n",
    "#Here are the results:"
   ]
  },
  {
   "cell_type": "markdown",
   "metadata": {},
   "source": [
    "\n",
    "The parameters to the :py:func:`~.auxi.tools.chemistry.thermochemistry.S` function works the same as that of the :py:func:`~.auxi.tools.chemistry.thermochemistry.Cp` function. Both formula and phase are required in the first parameter, the second is temperature in °C and the third is mass, which is optional with a default value of 1 kg.\n",
    "\n"
   ]
  },
  {
   "cell_type": "markdown",
   "metadata": {},
   "source": [
    "# Calculating Gibbs Free Energy\n",
    "\n",
    "The :py:func:`~.auxi.tools.chemistry.thermochemistry.G` function in :py:mod:`~.auxi.tools.chemistry.thermochemistry` is used to calculate the Gibbs free energy of a compound. This can be done as follows:"
   ]
  },
  {
   "cell_type": "code",
   "execution_count": null,
   "metadata": {
    "collapsed": true
   },
   "outputs": [],
   "source": [
    "from auxi.tools.chemistry import thermochemistry as thermo\n",
    "\n",
    "G_H2O = thermo.G(\"H2O[L]\", 70.0)\n",
    "print(\"The Gibbs free energy of 1 kg of water at 70 °C is\", G_H2O,\n",
    "    \"kWh.\")\n",
    "\n",
    "G_H2O = thermo.G(\"H2O[G]\", 70.0)\n",
    "print(\"The Gibbs free energy of 1 kg of water vapour at 70 °C is\", G_H2O,\n",
    "    \"kWh.\")\n",
    "\n",
    "m_ZrO2 = 2.34\n",
    "G_ZrO2 = thermo.G(\"ZrO2[S1]\", 893.5, m_ZrO2)\n",
    "print(\"The Gibbs free energy of 2.34 kg of ZrO2[S1] at 893.5 °C is\", G_ZrO2,\n",
    "    \"kWh.\")\n",
    "#Here are the results:\n"
   ]
  },
  {
   "cell_type": "markdown",
   "metadata": {},
   "source": [
    "The parameters to the :py:func:`~.auxi.tools.chemistry.thermochemistry.G` function works the same as that of the :py:func:`~.auxi.tools.chemistry.thermochemistry.Cp` function. Both formula and phase are required in the first parameter, the second is temperature in °C and the third is mass, which is optional with a default value of 1 kg."
   ]
  }
 ],
 "metadata": {
  "anaconda-cloud": {},
  "kernelspec": {
   "display_name": "Python [Root]",
   "language": "python",
   "name": "Python [Root]"
  },
  "language_info": {
   "codemirror_mode": {
    "name": "ipython",
    "version": 3
   },
   "file_extension": ".py",
   "mimetype": "text/x-python",
   "name": "python",
   "nbconvert_exporter": "python",
   "pygments_lexer": "ipython3",
   "version": "3.5.2"
  }
 },
 "nbformat": 4,
 "nbformat_minor": 0
}
