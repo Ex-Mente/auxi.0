{
 "cells": [
  {
   "cell_type": "markdown",
   "metadata": {},
   "source": [
    "# Stoichiometry Calculations\n",
    "\n",
    "## Calculating Molar Mass\n",
    "Determining the molar mass of a substance is done countless times in mass and energy balance models and other process models. It usually requires you to create your own little database or list that you look up the values from. Once you have that, you can perform the required calculations. The `auxi.tools.chemistry.stoichiometry` module provides the molar_mass() function for this purpose.\n",
    "\n",
    "### Standard Approach\n",
    "The normal way of getting the molar mass of one or more compounds is as follows:"
   ]
  },
  {
   "cell_type": "code",
   "execution_count": 1,
   "metadata": {
    "collapsed": false
   },
   "outputs": [],
   "source": [
    "from auxi.tools.chemistry import stoichiometry\n",
    "\n",
    "molarmass_FeO = stoichiometry.molar_mass(\"FeO\")\n",
    "molarmass_CO2 = stoichiometry.molar_mass(\"CO2\")\n",
    "molarmass_FeCr2O4 = stoichiometry.molar_mass(\"FeCr2O4\")"
   ]
  },
  {
   "cell_type": "markdown",
   "metadata": {},
   "source": [
    "An example is shown below with its output:"
   ]
  },
  {
   "cell_type": "code",
   "execution_count": 2,
   "metadata": {
    "collapsed": false
   },
   "outputs": [
    {
     "name": "stdout",
     "output_type": "stream",
     "text": [
      "Molar mass of FeO    : 71.8444 kg/kmol\n",
      "Molar mass of CO2    : 44.0095 kg/kmol\n",
      "Molar mass of FeCr2O4: 223.8348 kg/kmol\n"
     ]
    }
   ],
   "source": [
    "print(\"Molar mass of FeO    :\", molarmass_FeO, \"kg/kmol\")\n",
    "print(\"Molar mass of CO2    :\", molarmass_CO2, \"kg/kmol\")\n",
    "print(\"Molar mass of FeCr2O4:\", molarmass_FeCr2O4, \"kg/kmol\")"
   ]
  },
  {
   "cell_type": "markdown",
   "metadata": {},
   "source": [
    "### Compact Approach\n",
    "\n",
    "One of Python's strengths is its ability to make code very compact. You may not always want to use a lengthy \"stoichiometry.molar_mass\" reference to the function. Rather than importing the `auxi.tools.chemistry.stoichiometry` module, we can import the `auxi.tools.chemistry.stoichiometry.molar_mass` function directly, and give it another name. Here is how you can make it short and sweet:\n"
   ]
  },
  {
   "cell_type": "code",
   "execution_count": 3,
   "metadata": {
    "collapsed": false
   },
   "outputs": [
    {
     "name": "stdout",
     "output_type": "stream",
     "text": [
      "Molar mass of FeO    : 71.8444 kg/kmol\n",
      "Molar mass of CO2    : 44.0095 kg/kmol\n",
      "Molar mass of FeCr2O4: 223.8348 kg/kmol\n"
     ]
    }
   ],
   "source": [
    "from auxi.tools.chemistry.stoichiometry import molar_mass as mm\n",
    "\n",
    "molarmass_FeO = mm(\"FeO\")\n",
    "\n",
    "print(\"Molar mass of FeO    :\", molarmass_FeO, \"kg/kmol\")\n",
    "print(\"Molar mass of CO2    :\", mm(\"CO2\"), \"kg/kmol\")\n",
    "print(\"Molar mass of FeCr2O4:\", mm(\"FeCr2O4\"), \"kg/kmol\")"
   ]
  },
  {
   "cell_type": "markdown",
   "metadata": {},
   "source": [
    "### More Examples\n",
    "\n",
    "Here are some more examples of molar mass calculations:"
   ]
  },
  {
   "cell_type": "code",
   "execution_count": 4,
   "metadata": {
    "collapsed": false
   },
   "outputs": [
    {
     "name": "stdout",
     "output_type": "stream",
     "text": [
      "Molar mass of FeO1.5 is 79.8441 kg/kmol.\n",
      "Molar mass of Fe2O3 is 159.6882 kg/kmol.\n",
      "Molar mass of FeOTiO2 is 151.7102 kg/kmol.\n",
      "Molar mass of FeTiO3 is 151.7102 kg/kmol.\n",
      "Molar mass of Fe2(CO3)3 is 291.7167 kg/kmol.\n",
      "Molar mass of Fe2C3O9 is 291.7167 kg/kmol.\n",
      "Molar mass of H2O is 18.01528 kg/kmol.\n",
      "Molar mass of H is 1.00794 kg/kmol.\n",
      "Molar mass of He is 4.002602 kg/kmol.\n",
      "Molar mass of Au is 196.96655 kg/kmol.\n"
     ]
    }
   ],
   "source": [
    "from auxi.tools.chemistry.stoichiometry import molar_mass as mm\n",
    "\n",
    "def print_molar_mass(compound):\n",
    "    print(\"Molar mass of\", compound, \"is\", mm(compound), \"kg/kmol.\")\n",
    "\n",
    "print_molar_mass(\"FeO1.5\")\n",
    "print_molar_mass(\"Fe2O3\")\n",
    "print_molar_mass(\"FeOTiO2\")\n",
    "print_molar_mass(\"FeTiO3\")\n",
    "print_molar_mass(\"Fe2(CO3)3\")\n",
    "print_molar_mass(\"Fe2C3O9\")\n",
    "print_molar_mass(\"H2O\")\n",
    "print_molar_mass(\"H\")\n",
    "print_molar_mass(\"He\")\n",
    "print_molar_mass(\"Au\")"
   ]
  },
  {
   "cell_type": "markdown",
   "metadata": {},
   "source": [
    "## Calculating Compound Amount\n",
    "\n",
    "Sometimes you need to convert the mass of a compound (kg) to the equivalent amount (kmol). The `auxi.tools.chemistry.stoichiometry` module provides the `auxi.tools.chemistry.stoichiometry.amount` function to do this.\n",
    "\n",
    "The amount is calculated as follows:\n",
    "\n",
    "$$n_{\\text{compound}} = \\frac{m_{\\text{compound}}}{mm_{\\text{compound}}}$$\n",
    "where\n",
    "\n",
    " $n_{\\text{compound}}$ is the compound amount in kmol.\n",
    " $m_{\\text{compound}}$ is the compound mass in kg.\n",
    " $mm_{\\text{compound}}$ is the compound molar mass in kg/kmol.\n",
    "\n",
    "### Standard Approach\n",
    "The normal way of calculating the amount of a compound is as follows:"
   ]
  },
  {
   "cell_type": "code",
   "execution_count": 5,
   "metadata": {
    "collapsed": false
   },
   "outputs": [
    {
     "name": "stdout",
     "output_type": "stream",
     "text": [
      "There is 0.1391896932815919 kmol of FeO in 10.0 kg of the compound.\n",
      "There is 0.2794851111691794 kmol of CO2 in 12.3 kg of the compound.\n",
      "There is 2.0238139913900786 kmol of FeCr2O4 in 453.0 kg of the compound.\n"
     ]
    }
   ],
   "source": [
    "from auxi.tools.chemistry import stoichiometry\n",
    "\n",
    "m_FeO = 10.0\n",
    "n_FeO = stoichiometry.amount(\"FeO\", m_FeO)\n",
    "print(\"There is\", n_FeO, \"kmol of FeO in\", m_FeO , \"kg of the compound.\")\n",
    "\n",
    "m_CO2 = 12.3\n",
    "n_CO2 = stoichiometry.amount(\"CO2\", m_CO2)\n",
    "print(\"There is\", n_CO2, \"kmol of CO2 in\", m_CO2 , \"kg of the compound.\")\n",
    "\n",
    "m_FeCr2O4 = 453.0\n",
    "n_FeCr2O4 = stoichiometry.amount(\"FeCr2O4\", m_FeCr2O4)\n",
    "print(\"There is\", n_FeCr2O4, \"kmol of FeCr2O4 in\",\n",
    "      m_FeCr2O4 , \"kg of the compound.\")"
   ]
  },
  {
   "cell_type": "markdown",
   "metadata": {},
   "source": [
    "### Compact Approach\n",
    "\n",
    "To make the code more compact, we can import the function instead of the module and get the same result like this:"
   ]
  },
  {
   "cell_type": "code",
   "execution_count": 6,
   "metadata": {
    "collapsed": false
   },
   "outputs": [
    {
     "name": "stdout",
     "output_type": "stream",
     "text": [
      "There is 0.1391896932815919 kmol of FeO in 10.0 kg of the compound.\n",
      "There is 0.2794851111691794 kmol of CO2 in 12.3 kg of the compound.\n",
      "There is 2.0238139913900786 kmol of FeCr2O4 in 453.0 kg of the compound.\n"
     ]
    }
   ],
   "source": [
    "from auxi.tools.chemistry.stoichiometry import amount\n",
    "\n",
    "m_FeO = 10.0\n",
    "n_FeO = amount(\"FeO\", m_FeO)\n",
    "print(\"There is\", n_FeO, \"kmol of FeO in\", m_FeO , \"kg of the compound.\")\n",
    "\n",
    "m_CO2 = 12.3\n",
    "n_CO2 = amount(\"CO2\", m_CO2)\n",
    "print(\"There is\", n_CO2, \"kmol of CO2 in\", m_CO2 , \"kg of the compound.\")\n",
    "\n",
    "m_FeCr2O4 = 453.0\n",
    "n_FeCr2O4 = amount(\"FeCr2O4\", m_FeCr2O4)\n",
    "print(\"There is\", n_FeCr2O4, \"kmol of FeCr2O4 in\",\n",
    "      m_FeCr2O4 , \"kg of the compound.\")"
   ]
  },
  {
   "cell_type": "markdown",
   "metadata": {},
   "source": [
    "## Calculating Compound Mass\n",
    "\n",
    "You often have the amount (kmol) of a compound and then need to calculate its mass. The `auxi.tools.chemistry.stoichiometry` module provides the `auxi.tools.chemistry.stoichiometry.mass` function for this. The mass is calculate with this formula:\n",
    "\n",
    "$$m_{\\text{compound}} = n_{\\text{compound}} \\cdot mm_{\\text{compound}}$$\n",
    "where\n",
    "\n",
    " $m_{\\text{compound}}$ is the compound mass in kg.\n",
    " $n_{\\text{compound}}$ is the compound amount in kmol.\n",
    " $mm_{\\text{compound}}$ is the compound molar mass in kg/kmol.\n",
    "From this point forward the standard and compact approaches are not both demonstrated. Only the standard method, which imports the module, is used below since it is more explicit:"
   ]
  },
  {
   "cell_type": "code",
   "execution_count": 7,
   "metadata": {
    "collapsed": false
   },
   "outputs": [
    {
     "name": "stdout",
     "output_type": "stream",
     "text": [
      "There is 718.444 kg of FeO in 10.0 kmol of the compound.\n",
      "There is 12.3 kg of CO2 in 541.31685 kmol of the compound.\n",
      "There is 453.0 kg of FeCr2O4 in 101397.1644 kmol of the compound.\n"
     ]
    }
   ],
   "source": [
    "from auxi.tools.chemistry import stoichiometry\n",
    "\n",
    "n_FeO = 10.0\n",
    "m_FeO = stoichiometry.mass(\"FeO\", n_FeO)\n",
    "print(\"There is\", m_FeO, \"kg of FeO in\", n_FeO , \"kmol of the compound.\")\n",
    "\n",
    "m_CO2 = 12.3\n",
    "n_CO2 = stoichiometry.mass(\"CO2\", m_CO2)\n",
    "print(\"There is\", m_CO2, \"kg of CO2 in\", n_CO2 , \"kmol of the compound.\")\n",
    "\n",
    "m_FeCr2O4 = 453.0\n",
    "n_FeCr2O4 = stoichiometry.mass(\"FeCr2O4\", m_FeCr2O4)\n",
    "print(\"There is\", m_FeCr2O4, \"kg of FeCr2O4 in\",\n",
    "      n_FeCr2O4 , \"kmol of the compound.\")"
   ]
  },
  {
   "cell_type": "markdown",
   "metadata": {},
   "source": [
    "## Identifying Elements in Compounds\n",
    "\n",
    "The list of elements present in one or more compounds can be used when calculating element balances. Determining this list is often done manually. `auxi.tools.chemistry.stoichiometry` has the `auxi.tools.chemistry.stoichiometry.elements` function to automate this task. This is how you use it:"
   ]
  },
  {
   "cell_type": "code",
   "execution_count": 8,
   "metadata": {
    "collapsed": false
   },
   "outputs": [
    {
     "name": "stdout",
     "output_type": "stream",
     "text": [
      "Fe2O3 contains these elements: {'O', 'Fe'}\n",
      "CO2 contains these elements: {'O', 'C'}\n",
      "Fe2Cr2O4 contains these elements: {'O', 'Cr', 'Fe'}\n",
      "Al2(SO4)3 contains these elements: {'O', 'S', 'Al'}\n",
      "Fe2O3, CO2, Fe2Cr2O4 and Al2(SO4)3 contain these elements: {'Cr', 'C', 'Fe', 'O', 'S', 'Al'}\n"
     ]
    }
   ],
   "source": [
    "from auxi.tools.chemistry import stoichiometry\n",
    "\n",
    "elements_Fe2O3 = stoichiometry.elements([\"Fe2O3\"])\n",
    "print(\"Fe2O3 contains these elements:\", elements_Fe2O3)\n",
    "\n",
    "elements_CO2 = stoichiometry.elements([\"CO2\"])\n",
    "print(\"CO2 contains these elements:\", elements_CO2)\n",
    "\n",
    "elements_Fe2Cr2O4 = stoichiometry.elements([\"Fe2Cr2O4\"])\n",
    "print(\"Fe2Cr2O4 contains these elements:\", elements_Fe2Cr2O4)\n",
    "\n",
    "elements_Al2S3O12 = stoichiometry.elements([\"Al2(SO4)3\"])\n",
    "print(\"Al2(SO4)3 contains these elements:\", elements_Al2S3O12)\n",
    "\n",
    "elements_all = stoichiometry.elements([\"Fe2O3\", \"CO2\", \"Fe2Cr2O4\", \"Al2(SO4)3\"])\n",
    "print(\"Fe2O3, CO2, Fe2Cr2O4 and Al2(SO4)3 contain these elements:\",\n",
    "      elements_all)"
   ]
  },
  {
   "cell_type": "markdown",
   "metadata": {},
   "source": [
    "## Calculating Stoichiometry Coefficients\n",
    "\n",
    "The `auxi.tools.chemistry.stoichiometry.stoichiometry_coefficient` and `auxi.tools.chemistry.stoichiometry.stoichiometry_coefficients` functions in `auxi.tools.chemistry.stoichiometry` determine the stoichiometry coefficients of elements in chemical compounds automatically. If we are only interested in the coefficient for a single element, we use `auxi.tools.chemistry.stoichiometry.stoichiometry_coefficient` like this:"
   ]
  },
  {
   "cell_type": "code",
   "execution_count": 9,
   "metadata": {
    "collapsed": false
   },
   "outputs": [
    {
     "name": "stdout",
     "output_type": "stream",
     "text": [
      "Stoichiometry coefficient of Fe in Fe2O3: 2.0\n",
      "Stoichiometry coefficient of O in Fe2O3: 3.0\n",
      "Stoichiometry coefficient of C in Fe2O3: 0.0\n"
     ]
    }
   ],
   "source": [
    "from auxi.tools.chemistry import stoichiometry\n",
    "\n",
    "coeff_Fe2O3_Fe = stoichiometry.stoichiometry_coefficient(\"Fe2O3\", \"Fe\")\n",
    "print(\"Stoichiometry coefficient of Fe in Fe2O3:\", coeff_Fe2O3_Fe)\n",
    "\n",
    "coeff_Fe2O3_O = stoichiometry.stoichiometry_coefficient(\"Fe2O3\", \"O\")\n",
    "print(\"Stoichiometry coefficient of O in Fe2O3:\", coeff_Fe2O3_O)\n",
    "\n",
    "coeff_Fe2O3_C = stoichiometry.stoichiometry_coefficient(\"Fe2O3\", \"C\")\n",
    "print(\"Stoichiometry coefficient of C in Fe2O3:\", coeff_Fe2O3_C)"
   ]
  },
  {
   "cell_type": "markdown",
   "metadata": {},
   "source": [
    "We can determine the coefficients for a list of elements using the `auxi.tools.chemistry.stoichiometry.stoichiometry_coefficients` function:"
   ]
  },
  {
   "cell_type": "code",
   "execution_count": 10,
   "metadata": {
    "collapsed": false
   },
   "outputs": [
    {
     "name": "stdout",
     "output_type": "stream",
     "text": [
      "Stoichiometry coefficient of ['Fe', 'O', 'C', 'Ar'] in Fe2O3: [2.0, 3.0, 0.0, 0.0]\n",
      "Stoichiometry coefficient of ['Al', 'Ca', 'Fe', 'Si', 'O', 'C', 'H'] in Lawsonite (CaAl2(Si2O7)(OH)2·H2O): [2.0, 1.0, 0.0, 2.0, 10.0, 0.0, 4.0]\n"
     ]
    }
   ],
   "source": [
    "from auxi.tools.chemistry import stoichiometry\n",
    "\n",
    "elements = [\"Fe\", \"O\", \"C\", \"Ar\"]\n",
    "st_Fe2O3 = stoichiometry.stoichiometry_coefficients(\"Fe2O3\", elements)\n",
    "print(\"Stoichiometry coefficient of\", elements, \"in Fe2O3:\",\n",
    "      st_Fe2O3)\n",
    "\n",
    "elements = [\"Al\", \"Ca\", \"Fe\", \"Si\", \"O\", \"C\", \"H\"]\n",
    "st_Lawsonite = stoichiometry.stoichiometry_coefficients(\"CaAl2Si2O7O2H2H2O\",\n",
    "                                                 elements)\n",
    "print(\"Stoichiometry coefficient of\", elements,\n",
    "      \"in Lawsonite (CaAl2(Si2O7)(OH)2·H2O):\", st_Lawsonite)"
   ]
  },
  {
   "cell_type": "markdown",
   "metadata": {},
   "source": [
    "## Calculating Element Mass Fractions\n",
    "\n",
    "Another two useful tools in the calculation of element balances are the `auxi.tools.chemistry.stoichiometry.element_mass_fraction` and `auxi.tools.chemistry.stoichiometry.element_mass_fractions` functions in `auxi.tools.chemistry.stoichiometry`. They are similar to the stoichiometry coefficient functions, but calculate the mass fraction of an element or list of elements in a chemical compound. The calculations are done with the following equation:\n",
    "\n",
    "$$y_{\\text{compound,element}} = \\frac{n_{\\text{compound,element}} \\cdot mm_{\\text{element}}}{mm_{\\text{compound}}}$$\n",
    "where\n",
    "\n",
    " $y_{\\text{compound,element}}$ is the mass fraction of the specified element in the compound.\n",
    " $n_{\\text{compound,element}}$ is the stoichiometry coefficient of the specified element in the compound.\n",
    " $mm_{\\text{element}}$ is the element's molar mass in kg/kmol.\n",
    " $mm_{\\text{compound}}$ is the compound's molar mass in kg/kmol.\n",
    "For determining the mass fraction of a single element we can use `auxi.tools.chemistry.stoichiometry.element_mass_fraction` as follows:\n",
    "\n"
   ]
  },
  {
   "cell_type": "code",
   "execution_count": 11,
   "metadata": {
    "collapsed": false
   },
   "outputs": [
    {
     "name": "stdout",
     "output_type": "stream",
     "text": [
      "Mass fraction of Fe in Fe2O3: 0.699425505453753\n",
      "Mass fraction of O in Fe2O3: 0.300574494546247\n",
      "Mass fraction of C in Fe2O3: 0.0\n"
     ]
    }
   ],
   "source": [
    "from auxi.tools.chemistry import stoichiometry\n",
    "\n",
    "y_Fe2O3_Fe = stoichiometry.element_mass_fraction(\"Fe2O3\", \"Fe\")\n",
    "print(\"Mass fraction of Fe in Fe2O3:\", y_Fe2O3_Fe)\n",
    "\n",
    "y_Fe2O3_O = stoichiometry.element_mass_fraction(\"Fe2O3\", \"O\")\n",
    "print(\"Mass fraction of O in Fe2O3:\", y_Fe2O3_O)\n",
    "\n",
    "y_Fe2O3_C = stoichiometry.element_mass_fraction(\"Fe2O3\", \"C\")\n",
    "print(\"Mass fraction of C in Fe2O3:\", y_Fe2O3_C)"
   ]
  },
  {
   "cell_type": "code",
   "execution_count": 12,
   "metadata": {
    "collapsed": false
   },
   "outputs": [
    {
     "name": "stdout",
     "output_type": "stream",
     "text": [
      "Mass fractions of ['Fe', 'O', 'C', 'Ar'] in Fe2O3: [0.699425505453753, 0.300574494546247, 0.0, 0.0]\n",
      "Mass fractions of ['Al', 'Ca', 'Fe', 'Si', 'O', 'C', 'H'] in Lawsonite (CaAl2(Si2O7)(OH)2·H2O): [0.17172685723306727, 0.12754033858608932, 0.0, 0.17875314034430917, 0.5091493819986719, 0.0, 0.012830281837862455]\n"
     ]
    }
   ],
   "source": [
    "from auxi.tools.chemistry import stoichiometry\n",
    "\n",
    "elements = [\"Fe\", \"O\", \"C\", \"Ar\"]\n",
    "y_Fe2O3 = stoichiometry.element_mass_fractions(\"Fe2O3\", elements)\n",
    "print(\"Mass fractions of\", elements, \"in Fe2O3:\", y_Fe2O3)\n",
    "\n",
    "elements = [\"Al\", \"Ca\", \"Fe\", \"Si\", \"O\", \"C\", \"H\"]\n",
    "y_Lawsonite = stoichiometry.element_mass_fractions(\"CaAl2Si2O7O2H2H2O\", elements)\n",
    "print(\"Mass fractions of\", elements,\n",
    "      \"in Lawsonite (CaAl2(Si2O7)(OH)2·H2O):\",\n",
    "      y_Lawsonite)"
   ]
  },
  {
   "cell_type": "markdown",
   "metadata": {},
   "source": [
    "## Converting Compounds\n",
    "\n",
    "Sometimes it is needed to convert the mass of one compound to an equivalent mass of another compound. For example, how much Fe will I get when I reduce a certain mass of Fe2O3? `auxi.tools.chemistry.stoichiometry` has the `auxi.tools.chemistry.stoichiometry.convert_compound` function to help out. The function calculates the result as follows:\n",
    "\n",
    "$$m_{\\text{target}} = m_{\\text{source}} \\cdot \\frac{y_{\\text{source,element}}}{y_{\\text{target,element}}}$$\n",
    "where\n",
    "\n",
    " $m_{\\text{target}}$ is the target compound mass in kg.\n",
    " $m_{\\text{source}}$ is the source compound mass in kg.\n",
    " $y_{\\text{target,element}}$ is the mass fraction of the specified base element in the target compound.\n",
    " $y_{\\text{source,element}}$ is the mass fraction of the specified base element in the source compound.\n",
    "Here are some simple examples of how to use `auxi.tools.chemistry.stoichiometry.convert_compound`:"
   ]
  },
  {
   "cell_type": "code",
   "execution_count": 13,
   "metadata": {
    "collapsed": false
   },
   "outputs": [
    {
     "name": "stdout",
     "output_type": "stream",
     "text": [
      "From 10.0 kg of Fe2O3, 6.994255054537531 kg of Fe can be produced.\n",
      "When 10.0 kg of Fe is oxidised completely, 14.297448294386246 kg of Fe2O3 will be produced.\n"
     ]
    }
   ],
   "source": [
    "from auxi.tools.chemistry import stoichiometry\n",
    "\n",
    "m_Fe2O3 = 10.0\n",
    "m_Fe = stoichiometry.convert_compound(m_Fe2O3, \"Fe2O3\", \"Fe\", \"Fe\")\n",
    "print(\"From\", m_Fe2O3, \"kg of Fe2O3,\", m_Fe ,\n",
    "      \"kg of Fe can be produced.\")\n",
    "\n",
    "m_Fe = 10.0\n",
    "m_Fe2O3 = stoichiometry.convert_compound(m_Fe, \"Fe\", \"Fe2O3\", \"Fe\")\n",
    "print(\"When\", m_Fe, \"kg of Fe is oxidised completely,\", m_Fe2O3 ,\n",
    "      \"kg of Fe2O3 will be produced.\")"
   ]
  }
 ],
 "metadata": {
  "anaconda-cloud": {},
  "kernelspec": {
   "display_name": "Python 3",
   "language": "python",
   "name": "python3"
  },
  "language_info": {
   "codemirror_mode": {
    "name": "ipython",
    "version": 3
   },
   "file_extension": ".py",
   "mimetype": "text/x-python",
   "name": "python",
   "nbconvert_exporter": "python",
   "pygments_lexer": "ipython3",
   "version": "3.5.1"
  }
 },
 "nbformat": 4,
 "nbformat_minor": 0
}
