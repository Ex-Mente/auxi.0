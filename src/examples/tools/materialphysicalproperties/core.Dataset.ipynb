{
 "cells": [
  {
   "cell_type": "markdown",
   "metadata": {},
   "source": [
    "# Working with `auxi`'s Material Physical Property `DataSet`s\n",
    "\n",
    "## Purpose\n",
    "The purpose of this example is to introduce and demonstrate the `DataSet` class in `auxi`'s material physical property tools package.\n",
    "\n",
    "## Background\n",
    "Material physical property models are created based on sets of data that are determined experimentally. One can also test an existing property model against a data set to determine how well the model describes the physical property in question. In `auxi` these data sets are stored in csv files that have a specific format required by `auxi`. The `DataSet` class makes it easy to create, store, read, and use these data sets from inside the Python environment.\n",
    "\n",
    "## Items Covered\n",
    "The following items in `auxi` are discussed and demonstrated in this example:\n",
    "* `auxi.tools.materialproperties.core.DataSet`\n",
    "\n",
    "## Example Scope\n",
    "In this example we will address the following aspects:\n",
    "1. Importing the `DataSet` class.\n",
    "2. How to create your own physical property data set csv file with the `create_template()` method.\n",
    "3. Reading your data set csv file into a Dataset object.\n",
    "4. How to use the data sets for materials that are included in `auxi`.\n",
    "\n",
    "## Demonstrations\n",
    "\n",
    "### Importing the `DataSet` Class\n",
    "Before you can use that `DataSet` class, you need to import it from `auxi`."
   ]
  },
  {
   "cell_type": "code",
   "execution_count": 11,
   "metadata": {
    "collapsed": false
   },
   "outputs": [],
   "source": [
    "from auxi.tools.materialphysicalproperties.core import DataSet"
   ]
  },
  {
   "cell_type": "markdown",
   "metadata": {},
   "source": [
    "You are now ready to use the `DataSet` class.\n",
    "\n",
    "### Creating Your Own Data Set\n",
    "The `DataSet`'s `create_template` method makes it easy to create your own physical property data set. You only provide the `material`, `path`, and `show` parameters. A csv file will then be generated, and it will be automatically opened in your default csv editor if you set `show` to `True`.\n",
    "\n",
    "In this csv file you would see text between `< >` signs. This indicates which text you should edit, like parameter name, units, symbol and values."
   ]
  },
  {
   "cell_type": "code",
   "execution_count": 12,
   "metadata": {
    "collapsed": false
   },
   "outputs": [],
   "source": [
    "path = r'D:\\temp\\auxi-demo'\n",
    "material = 'auxiite'\n",
    "\n",
    "DataSet.create_template(material, path, show=True)"
   ]
  },
  {
   "cell_type": "markdown",
   "metadata": {},
   "source": [
    "You can now edit the data set and save it for further use.\n",
    "\n",
    "### Reading Your Data Set\n",
    "To read your data set into a `DataSet` object, you do the following:"
   ]
  },
  {
   "cell_type": "code",
   "execution_count": 13,
   "metadata": {
    "collapsed": false,
    "scrolled": true
   },
   "outputs": [],
   "source": [
    "dataset = DataSet(path + r'\\dataset-auxiite2.csv')"
   ]
  },
  {
   "cell_type": "markdown",
   "metadata": {},
   "source": [
    "We can now use the content of the `DataSet` object. For this example, we will print the different variables inside the object. These include:\n",
    "* Material name\n",
    "* Data set description\n",
    "* Reference\n",
    "* List of names, symbols, display symbols, and units for the columns in the data set"
   ]
  },
  {
   "cell_type": "code",
   "execution_count": 14,
   "metadata": {
    "collapsed": false
   },
   "outputs": [
    {
     "name": "stdout",
     "output_type": "stream",
     "text": [
      "Material:          auxiite\n",
      "Description:       My auxiite data file.\n",
      "References:        <Add a reference to the source of the data set here.>\n",
      "Properties:        ['Temperature', '<parameter 1 name>', '<parameter 2 name>', '<parameter 3 name>']\n",
      "Symbols:           ['T', '<parameter 1 symbol>', '<parameter 2 symbol>', '<parameter 3 symbol>']\n",
      "Display symbols:   {'<parameter 1 symbol>': '<parameter 1 display symbol>', '<parameter 3 symbol>': '<parameter 3 display symbol>', '<parameter 2 symbol>': '<parameter 2 display symbol>', 'T': 'T'}\n",
      "Units:             ['K', '<parameter 1 units>', '<parameter 2 units>', '<parameter 3 units>']\n",
      "Data:\n",
      "     T  <parameter 1 symbol>  <parameter 2 symbol>  <parameter 3 symbol>\n",
      "0  100                     0                    10                   100\n",
      "1  150                     1                    11                   101\n",
      "2  200                     2                    12                   102\n",
      "3  250                     3                    13                   103\n",
      "4  300                     4                    14                   104\n",
      "5  350                     5                    15                   105\n",
      "6  400                     6                    16                   106\n",
      "7  450                     7                    17                   107\n",
      "8  500                     8                    18                   108\n",
      "9  550                     9                    19                   109\n"
     ]
    }
   ],
   "source": [
    "print('Material:         ', dataset.material)\n",
    "print('Description:      ', dataset.description)\n",
    "print('References:       ', dataset.reference)\n",
    "print('Properties:       ', dataset.col_names)\n",
    "print('Symbols:          ', dataset.col_symbols)\n",
    "print('Display symbols:  ', dataset.display_symbols_dict)\n",
    "print('Units:            ', dataset.col_units)\n",
    "print('Data:')\n",
    "print(dataset.data)"
   ]
  },
  {
   "cell_type": "markdown",
   "metadata": {},
   "source": [
    "You can also print the content of the data set by simply doing the following:"
   ]
  },
  {
   "cell_type": "code",
   "execution_count": 9,
   "metadata": {
    "collapsed": false
   },
   "outputs": [
    {
     "name": "stdout",
     "output_type": "stream",
     "text": [
      "Material:         auxiite\n",
      "Description:      My auxiite data file.\n",
      "References:       <Add a reference to the source of the data set here.>\n",
      "Properties:       ['Temperature', '<parameter 1 name>', '<parameter 2 name>', '<parameter 3 name>']\n",
      "Symbols:          ['T', '<parameter 1 symbol>', '<parameter 2 symbol>', '<parameter 3 symbol>']\n",
      "Display symbols:  ['T', '<parameter 1 display symbol>', '<parameter 2 display symbol>', '<parameter 3 display symbol>']\n",
      "Units:            ['K', '<parameter 1 units>', '<parameter 2 units>', '<parameter 3 units>']\n",
      "Data:\n",
      "     T  <parameter 1 symbol>  <parameter 2 symbol>  <parameter 3 symbol>\n",
      "0  100                     0                    10                   100\n",
      "1  150                     1                    11                   101\n",
      "2  200                     2                    12                   102\n",
      "3  250                     3                    13                   103\n",
      "4  300                     4                    14                   104\n",
      "5  350                     5                    15                   105\n",
      "6  400                     6                    16                   106\n",
      "7  450                     7                    17                   107\n",
      "8  500                     8                    18                   108\n",
      "9  550                     9                    19                   109\n"
     ]
    }
   ],
   "source": [
    "print(dataset)"
   ]
  },
  {
   "cell_type": "markdown",
   "metadata": {
    "collapsed": true
   },
   "source": [
    "### Using `auxi`'s Own Data Sets\n",
    "For convenience `auxi` contains a number of material physical property data sets that you can easily access and use. These are contained in the `gases` and `liquids` modules in the `auxi.tools.materialproperties` package.\n",
    "\n",
    "Let's look at the data set for air."
   ]
  },
  {
   "cell_type": "code",
   "execution_count": null,
   "metadata": {
    "collapsed": false
   },
   "outputs": [],
   "source": [
    "from auxi.tools.materialphysicalproperties.gases import air_dataset\n",
    "print(air_dataset)"
   ]
  },
  {
   "cell_type": "markdown",
   "metadata": {},
   "source": [
    "There is also a data set for water."
   ]
  },
  {
   "cell_type": "code",
   "execution_count": null,
   "metadata": {
    "collapsed": false,
    "scrolled": true
   },
   "outputs": [],
   "source": [
    "from auxi.tools.materialphysicalproperties.liquids import h2o_dataset\n",
    "print(h2o_dataset)"
   ]
  }
 ],
 "metadata": {
  "kernelspec": {
   "display_name": "Python 3",
   "language": "python",
   "name": "python3"
  },
  "language_info": {
   "codemirror_mode": {
    "name": "ipython",
    "version": 3
   },
   "file_extension": ".py",
   "mimetype": "text/x-python",
   "name": "python",
   "nbconvert_exporter": "python",
   "pygments_lexer": "ipython3",
   "version": "3.5.1"
  }
 },
 "nbformat": 4,
 "nbformat_minor": 0
}
