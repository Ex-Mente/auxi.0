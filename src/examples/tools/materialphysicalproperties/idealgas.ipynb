{
 "cells": [
  {
   "cell_type": "markdown",
   "metadata": {},
   "source": [
    "# Working with `auxi`'s Ideal Gas Models\n",
    "\n",
    "## Purpose\n",
    "The purpose of this example is to introduce and demonstrate the `idealgas` model classes in `auxi`'s material physical property tools package."
   ]
  },
  {
   "cell_type": "markdown",
   "metadata": {},
   "source": [
    "## Background\n",
    "The `idealgas` models provide tools to calculate material physical properties of ideal gases by making use of gas states variables such as temperature, pressure and compostion. It is important to keep in mind that a gas behaves ideally at high temperatures and low pressures. "
   ]
  },
  {
   "cell_type": "markdown",
   "metadata": {},
   "source": [
    "## Items Covered\n",
    "The following items in `auxi` are discussed and demonstrated in this example:\n",
    "* `auxi.tools.materialphysicalproperties.idealgas.BetaT`\n",
    "* `auxi.tools.materialphysicalproperties.idealgas.RhoT`\n",
    "* `auxi.tools.materialphysicalproperties.idealgas.RhoTP`\n",
    "* `auxi.tools.materialphysicalproperties.idealgas.RhoTPx`"
   ]
  },
  {
   "cell_type": "markdown",
   "metadata": {},
   "source": [
    "## Example Scope\n",
    "In this example we will address the following aspects:\n",
    "1. Using the `BetaT` model\n",
    "1. Using the `RhoT` model\n",
    "1. Using the `RhoTP` model\n",
    "1. Using the `RhoTPx` model"
   ]
  },
  {
   "cell_type": "code",
   "execution_count": null,
   "metadata": {
    "collapsed": false
   },
   "outputs": [],
   "source": [
    "# import some tools to use in this example\n",
    "import numpy as np\n",
    "import matplotlib.pyplot as plt\n",
    "%matplotlib inline "
   ]
  },
  {
   "cell_type": "markdown",
   "metadata": {},
   "source": [
    "## Demonstrations\n",
    "\n",
    "### Using the `BetaT` model\n",
    "This model describes the variation in the thermal expansion coefficient of an ideal gas as a function of temperature.\n",
    "\n",
    "####  Calculating `BetaT` for a Single Temperature\n",
    "As a basic example, let's calculate the thermal expansion coefficient at a single temperature:"
   ]
  },
  {
   "cell_type": "code",
   "execution_count": null,
   "metadata": {
    "collapsed": false
   },
   "outputs": [],
   "source": [
    "# import the model class\n",
    "from auxi.tools.materialphysicalproperties.idealgas import BetaT\n",
    "\n",
    "# create a model object\n",
    "βT = BetaT()\n",
    "\n",
    "# define the state of the gas\n",
    "T = 500.0  # [K]\n",
    "\n",
    "# calculate the gas density \n",
    "β = βT(T=T)\n",
    "print (\"β =\", β, βT.units)"
   ]
  },
  {
   "cell_type": "markdown",
   "metadata": {},
   "source": [
    "#### Calculating `BetaT` for Mutliple Temperatures\n",
    "Now to show the potensial of this model, let's calculate at multiple temperatures and plot it."
   ]
  },
  {
   "cell_type": "code",
   "execution_count": null,
   "metadata": {
    "collapsed": false
   },
   "outputs": [],
   "source": [
    "# calculate the gas density\n",
    "Ts = list(range(400, 1550, 50))  # [K]\n",
    "β = [βT(T=T) for T in Ts]\n",
    "\n",
    "# plot a graph\n",
    "plt.plot(Ts, β, \"bo\", alpha = 0.5)\n",
    "plt.xlabel('$T$ [K]')\n",
    "plt.ylabel('$%s$ [%s]' % (βT.display_symbol, βT.units))\n",
    "plt.show()"
   ]
  },
  {
   "cell_type": "markdown",
   "metadata": {},
   "source": [
    "### Using the RhoT model\n",
    "This model describes the variation in density of an ideal gas as a function of temperature.\n",
    "\n",
    "#### Calculating `RhoT` at a Single Temperature\n",
    "As a basic example let's calculate the density at a single temperature:"
   ]
  },
  {
   "cell_type": "code",
   "execution_count": null,
   "metadata": {
    "collapsed": false
   },
   "outputs": [],
   "source": [
    "# import the molar mass function\n",
    "from auxi.tools.chemistry.stoichiometry import molar_mass as mm\n",
    "\n",
    "# import the model class\n",
    "from auxi.tools.materialphysicalproperties.idealgas import RhoT\n",
    "\n",
    "# create a model object\n",
    "# Since the model only calculates as a function temperature, we need to specify\n",
    "# pressure and average molar mass when we create it.\n",
    "ρT = RhoT(molar_mass=mm('CO2'), P=101325.0)\n",
    "\n",
    "# define the state of the gas\n",
    "T = 500.0  # [K]\n",
    "\n",
    "# calculate the gas density\n",
    "ρ = ρT.calculate(T=T)\n",
    "print(ρT.symbol, \"=\", ρ, ρT.units)"
   ]
  },
  {
   "cell_type": "markdown",
   "metadata": {},
   "source": [
    "### Calculating `RhoT` for Mutliple temperatures\n",
    "Now to show the potensial of this model, let's calculate at mutliple temperatures and plot it."
   ]
  },
  {
   "cell_type": "code",
   "execution_count": null,
   "metadata": {
    "collapsed": false
   },
   "outputs": [],
   "source": [
    "# calculate the gas density\n",
    "Ts = list(range(400, 1550, 50))  # [K]\n",
    "ρs = [ρT(T=T) for T in Ts]\n",
    "\n",
    "# plot a graph\n",
    "plt.plot(Ts, ρs, \"bo\", alpha = 0.7)\n",
    "plt.xlabel('$T$ [K]')\n",
    "plt.ylabel('$%s$ [%s]' % (ρT.display_symbol, ρT.units))\n",
    "plt.show()"
   ]
  },
  {
   "cell_type": "markdown",
   "metadata": {},
   "source": [
    "### Using the RhoTP model\n",
    "This model describes the variation in density of an ideal gas as a function of temperature and pressure.\n",
    "\n",
    "### Calculating `RhoTP` at a Single Temperature and Pressure\n",
    "As a basic example, let's calculate the density at a single temperature and pressure:"
   ]
  },
  {
   "cell_type": "code",
   "execution_count": null,
   "metadata": {
    "collapsed": false
   },
   "outputs": [],
   "source": [
    "# import the model class\n",
    "from auxi.tools.materialphysicalproperties.idealgas import RhoTP\n",
    "\n",
    "# create a model object\n",
    "# Since the model only calculates as a function of temperature and pressure,\n",
    "# we need to specify an average molar mass when we create it.\n",
    "ρTP = RhoTP(mm('CO2'))\n",
    "\n",
    "# define the state of the gas\n",
    "T = 500.0  # [K]\n",
    "P = 101325.0  # [Pa]\n",
    "\n",
    "# calculate the gas density\n",
    "ρ = ρTP.calculate(T=T,P=P)\n",
    "print(ρTP.symbol, \"=\", ρ, ρTP.units)"
   ]
  },
  {
   "cell_type": "markdown",
   "metadata": {},
   "source": [
    "### Calculating `RhoTP` at Mutliple Pressures\n",
    "Now to show the potensial of this model, let's calculate at mutliple pressures and plot it."
   ]
  },
  {
   "cell_type": "code",
   "execution_count": null,
   "metadata": {
    "collapsed": false
   },
   "outputs": [],
   "source": [
    "# define the state of the gas\n",
    "T = 700.0  # [K]\n",
    "Ps = np.linspace(0.5*101325, 5*101325)  # [Pa]\n",
    "\n",
    "# calculate the gas density\n",
    "ρs = [ρTP(T=T, P=P) for P in Ps]\n",
    "\n",
    "# plot a graph\n",
    "plt.plot(Ps, ρs, \"bo\", alpha = 0.7)\n",
    "plt.xlabel('$P$ [Pa]')\n",
    "plt.ylabel('$%s$ [%s]' % (ρTP.display_symbol, ρTP.units))\n",
    "plt.show()"
   ]
  },
  {
   "cell_type": "markdown",
   "metadata": {},
   "source": [
    "### RhoTPx model\n",
    "This model describes the variation in density of an ideal gas as a function of temperature, pressure, and molar composition.\n",
    "\n",
    "#### Calculating `RhoTP` at a Single Gas State\n",
    "As a basic example lets calculate the density at a single temperature, pressure and molar compostion for a mixture of two gases:"
   ]
  },
  {
   "cell_type": "code",
   "execution_count": null,
   "metadata": {
    "collapsed": false
   },
   "outputs": [],
   "source": [
    "# import the model class\n",
    "from auxi.tools.materialphysicalproperties.idealgas import RhoTPx\n",
    "\n",
    "# create a model object\n",
    "ρTPx = RhoTPx()\n",
    "\n",
    "# define the state of the gas\n",
    "T = 700.0  # [K]\n",
    "P = 101325.0  # [Pa]\n",
    "x = {'H2':0.5, 'Ar':0.5}  # [mole fraction]\n",
    "\n",
    "# calculate the gas density\n",
    "ρ = ρTPx(T=700, P=101000, x=x)\n",
    "print(ρTPx.symbol, \"=\", ρ, ρTPx.units)"
   ]
  },
  {
   "cell_type": "markdown",
   "metadata": {
    "collapsed": true
   },
   "source": [
    "### Calculating `RhoTP` as a Function of Composition\n",
    "Now let's calculate the density at a single temperature and pressure, for a range of molar compostions for a mixture of two gases:"
   ]
  },
  {
   "cell_type": "code",
   "execution_count": null,
   "metadata": {
    "collapsed": false
   },
   "outputs": [],
   "source": [
    "# define the state of the gas\n",
    "T = 700.0  # [K]\n",
    "P = 101325.0  # [Pa]\n",
    "xs_h2 = np.arange(0,1.1,0.1)  # [mole fraction H2]\n",
    "\n",
    "# calculate density as a function of composition for a binary Ar-H2 gas mixture\n",
    "ρs = [ρTPx(T=700, P=101325 ,x={'Ar':1-x, 'H2':x}) for x in xs_h2]\n",
    "\n",
    "# plot a graph\n",
    "plt.plot(xs_h2, ρs, \"bo\", alpha = 0.7)\n",
    "plt.xlim((0,1))\n",
    "plt.xlabel('$x_{H_2}$ [mol]')\n",
    "plt.ylabel('$%s$ [%s]' % (ρTPx.display_symbol, ρTPx.units))\n",
    "plt.show()"
   ]
  }
 ],
 "metadata": {
  "kernelspec": {
   "display_name": "Python 3",
   "language": "python",
   "name": "python3"
  },
  "language_info": {
   "codemirror_mode": {
    "name": "ipython",
    "version": 3
   },
   "file_extension": ".py",
   "mimetype": "text/x-python",
   "name": "python",
   "nbconvert_exporter": "python",
   "pygments_lexer": "ipython3",
   "version": "3.5.1"
  }
 },
 "nbformat": 4,
 "nbformat_minor": 0
}
