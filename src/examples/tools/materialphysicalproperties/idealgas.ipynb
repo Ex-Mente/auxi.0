{
 "cells": [
  {
   "cell_type": "markdown",
   "metadata": {},
   "source": [
    "# Working with `auxi`'s Ideal Gas Models\n",
    "\n",
    "## Purpose\n",
    "The purpose of this example is to introduce and demonstrate the `idealgas` model classes in `auxi`'s material physical property tools package.\n",
    "\n",
    "## Background\n",
    "The `idealgas` models provides you with the tools to calculate certian material physical property of ideal gases by making use of the gas states which includes the temperature, pressure and molar compostion. It is important to keep in mind that a gas are ideal gas at high temperatures and low pressures. \n",
    "\n",
    "## Items Covered\n",
    "The following items in `auxi` are discussed and demonstrated in this example:\n",
    "* `auxi.tools.materialphysicalproperties.idealgas`\n",
    "\n",
    "## Example Scope\n",
    "In this example we will address the following aspects:\n",
    "1. Using the `BetaT` model\n",
    "2. Using the `RhoT` model\n",
    "3. Using the `RhoTP` model\n",
    "4. Using the `RhoTPx` model\n"
   ]
  },
  {
   "cell_type": "code",
   "execution_count": 1,
   "metadata": {
    "collapsed": false
   },
   "outputs": [],
   "source": [
    "import numpy as np\n",
    "import matplotlib.pyplot as plt\n",
    "%matplotlib inline "
   ]
  },
  {
   "cell_type": "markdown",
   "metadata": {},
   "source": [
    "## Demonstrations\n",
    "\n",
    "### Importing the `idealgas` Models\n",
    "Before you can use that `idealgas` models, you need to import it from `auxi`."
   ]
  },
  {
   "cell_type": "code",
   "execution_count": 2,
   "metadata": {
    "collapsed": true
   },
   "outputs": [],
   "source": [
    "from auxi.tools.materialphysicalproperties import idealgas "
   ]
  },
  {
   "cell_type": "markdown",
   "metadata": {},
   "source": [
    "You are now ready to use the `idealgas` models, but for this demonstration we will be importing it model indivisually when being demonstated. "
   ]
  },
  {
   "cell_type": "markdown",
   "metadata": {},
   "source": [
    "# 1. Using the `BetaT` model\n",
    "A model that describes the variation in the thermal expansion coefficient of an ideal gas as a function of temperature.\n",
    "\n",
    "###  Calculating `BetaT` for a Single Temperature\n",
    "As basic example lets calculated the thermal expansion coefficient at a single temperature:"
   ]
  },
  {
   "cell_type": "code",
   "execution_count": 3,
   "metadata": {
    "collapsed": false
   },
   "outputs": [
    {
     "name": "stdout",
     "output_type": "stream",
     "text": [
      "β = 0.002 1/K\n"
     ]
    }
   ],
   "source": [
    "from auxi.tools.materialphysicalproperties.idealgas import BetaT\n",
    "\n",
    "# create a model object\n",
    "betaT = BetaT()\n",
    "\n",
    "# define the state of the gas\n",
    "T = 500\n",
    "\n",
    "# calculate the gas density \n",
    "β = betaT.calculate(T=T)\n",
    "print (\"β =\", β, betaT.units)"
   ]
  },
  {
   "cell_type": "markdown",
   "metadata": {},
   "source": [
    "### Calculating `BetaT` for Mutliple temperatures\n",
    "Now to show the potensial of this model lets calculated at mutliple temperatures and plot it."
   ]
  },
  {
   "cell_type": "code",
   "execution_count": 4,
   "metadata": {
    "collapsed": false
   },
   "outputs": [
    {
     "data": {
      "image/png": "[encoded data removed]",
      "text/plain": [
       "<matplotlib.figure.Figure at 0x7863410>"
      ]
     },
     "metadata": {},
     "output_type": "display_data"
    }
   ],
   "source": [
    "from auxi.tools.materialphysicalproperties.idealgas import BetaT\n",
    "\n",
    "# create a model object\n",
    "betaT = BetaT()\n",
    "\n",
    "# calculate the gas density\n",
    "Ts = list(range(400, 1550, 50))\n",
    "beta = [betaT(T=T) for T in Ts]\n",
    "\n",
    "# plot a graph\n",
    "plt.plot(Ts, beta, \"bo\", alpha = 0.7)\n",
    "plt.xlabel('$T$ [K]')\n",
    "plt.ylabel('$%s$ [%s]' % (betaT.display_symbol, betaT.units))\n",
    "plt.show()"
   ]
  },
  {
   "cell_type": "markdown",
   "metadata": {},
   "source": [
    "# 2. Using the RhoT model\n",
    "A model that describes the variation in density of an ideal gas as a function of temperature.\n",
    "\n",
    "### Calculating `RhoT` for a Single temperature\n",
    "As basic example lets calculated the density at a single temperature:"
   ]
  },
  {
   "cell_type": "code",
   "execution_count": 5,
   "metadata": {
    "collapsed": false
   },
   "outputs": [
    {
     "name": "stdout",
     "output_type": "stream",
     "text": [
      "rho = 1.0726520931522439 kg/m3\n"
     ]
    }
   ],
   "source": [
    "from auxi.tools.chemistry.stoichiometry import molar_mass as mm\n",
    "from auxi.tools.materialphysicalproperties.idealgas import RhoT\n",
    "\n",
    "# molar mass of CO2 gas\n",
    "mm_CO2 = mm(\"CO2\")\n",
    "\n",
    "# create a model object\n",
    "rhoT = RhoT(molar_mass=mm_CO2, P=101325)\n",
    "\n",
    "# define the state of the gas\n",
    "T = 500\n",
    "\n",
    "# calculate the gas density\n",
    "rho = rhoT.calculate(T=T)\n",
    "print(rhoT.symbol, \"=\", rho, rhoT.units)"
   ]
  },
  {
   "cell_type": "markdown",
   "metadata": {},
   "source": [
    "### Calculating `RhoT` for Mutliple temperatures\n",
    "Now to show the potensial of this model lets calculated at mutliple temperatures and plot it."
   ]
  },
  {
   "cell_type": "code",
   "execution_count": 6,
   "metadata": {
    "collapsed": false
   },
   "outputs": [
    {
     "data": {
      "image/png": "[encoded data removed]",
      "text/plain": [
       "<matplotlib.figure.Figure at 0x78f3530>"
      ]
     },
     "metadata": {},
     "output_type": "display_data"
    }
   ],
   "source": [
    "from auxi.tools.materialphysicalproperties.idealgas import RhoT\n",
    "\n",
    "# molar mass of CO2 gas\n",
    "mm_CO2 = mm(\"CO2\")\n",
    "\n",
    "# create a model object\n",
    "rhoT = RhoT(mm_CO2, P=101325)\n",
    "\n",
    "# calculate the gas density\n",
    "Ts = list(range(400, 1550, 50))\n",
    "rho = [rhoT(T=T) for T in Ts]\n",
    "\n",
    "# plot a graph\n",
    "plt.plot(Ts, rho, \"bo\", alpha = 0.7)\n",
    "plt.xlabel('$T$ [K]')\n",
    "plt.ylabel('$%s$ [%s]' % (rhoT.display_symbol, rhoT.units))\n",
    "plt.show()"
   ]
  },
  {
   "cell_type": "markdown",
   "metadata": {},
   "source": [
    "# 3. Using the RhoTP model\n",
    "A model that describes the variation in density of an ideal gas as a function of temperature and pressure.\n",
    "\n",
    "\n",
    "### Calculating `RhoTP` for a Single Temperature and Pressure\n",
    "As basic example lets calculated the density at a single temperature and pressure:"
   ]
  },
  {
   "cell_type": "code",
   "execution_count": 42,
   "metadata": {
    "collapsed": false
   },
   "outputs": [
    {
     "name": "stdout",
     "output_type": "stream",
     "text": [
      "rho = 1.0726520931522439 kg/m3\n"
     ]
    }
   ],
   "source": [
    "from auxi.tools.materialphysicalproperties.idealgas import RhoTP\n",
    "\n",
    "# molar mass of CO2 gas\n",
    "mm_CO2 = mm(\"CO2\")\n",
    "\n",
    "# create a model object\n",
    "rhoTP = RhoTP(mm_CO2)\n",
    "\n",
    "# define the state of the gas\n",
    "T = 500\n",
    "P = 101325\n",
    "\n",
    "# calculate the gas density\n",
    "rho = rhoTP.calculate(T=T,P=P)\n",
    "print(rhoTP.symbol, \"=\", rho, rhoTP.units)"
   ]
  },
  {
   "cell_type": "markdown",
   "metadata": {},
   "source": [
    "### Calculating `RhoTP` for Mutliple Pressures\n",
    "Now to show the potensial of this model lets calculated at mutliple pressures and plot it."
   ]
  },
  {
   "cell_type": "code",
   "execution_count": 43,
   "metadata": {
    "collapsed": false
   },
   "outputs": [
    {
     "data": {
      "image/png": "[encoded data removed]",
      "text/plain": [
       "<matplotlib.figure.Figure at 0x41bdf10>"
      ]
     },
     "metadata": {},
     "output_type": "display_data"
    }
   ],
   "source": [
    "from auxi.tools.materialphysicalproperties.idealgas import RhoTP\n",
    "\n",
    "# molar mass of CO2 gas\n",
    "mm_CO2 = mm(\"CO2\")\n",
    "\n",
    "# create a model object\n",
    "rhoT = RhoTP(mm_CO2)\n",
    "\n",
    "# define the state of the gas\n",
    "T = 700\n",
    "\n",
    "# calculate the gas density\n",
    "Ps = np.linspace(0.5*101325, 5*101325)\n",
    "rho = [rhoTP(T=T, P=P) for P in Ps]\n",
    "\n",
    "# plot a graph\n",
    "plt.plot(Ps, rho, \"bo\", alpha = 0.7)\n",
    "plt.xlabel('$P$ [Pa]')\n",
    "plt.ylabel('$%s$ [%s]' % (rhoTP.display_symbol, rhoTP.units))\n",
    "plt.show()"
   ]
  },
  {
   "cell_type": "markdown",
   "metadata": {},
   "source": [
    "# 4. RhoTPx model\n",
    "A model that describes the variation in density of an ideal gas as a function of temperature, pressure, and molar composition.\n",
    "\n",
    "### Calculating `RhoTP` for a Single Temperature, Pressure and Molar Composition \n",
    "As basic example lets calculated the density at a single temperature and pressure for constant molar compostion for a mixture of two gases in molar fractions:"
   ]
  },
  {
   "cell_type": "code",
   "execution_count": 44,
   "metadata": {
    "collapsed": false
   },
   "outputs": [
    {
     "name": "stdout",
     "output_type": "stream",
     "text": [
      "rho = 0.364111852767962 kg/m3\n"
     ]
    }
   ],
   "source": [
    "from auxi.tools.materialphysicalproperties.idealgas import RhoTPx\n",
    "\n",
    "# create a model object\n",
    "rhoTPx = RhoTPx()\n",
    "\n",
    "# define the state of the gas\n",
    "T = 700.0\n",
    "P = 101325.0\n",
    "x = {'H2':0.5, 'Ar':0.5}\n",
    "\n",
    "# calculate the gas density\n",
    "rho = rhoTPx(T=700, P=101000, x=x)\n",
    "print(rhoTPx.symbol, \"=\", rho, rhoTPx.units)"
   ]
  },
  {
   "cell_type": "markdown",
   "metadata": {
    "collapsed": true
   },
   "source": [
    "### Calculating `RhoTP` for a Molar Composition of Two Gases\n",
    "As basic example lets calculated the density at a single temperature and pressure for constant molar compostion for a mixture of two gases in molar fractions:"
   ]
  },
  {
   "cell_type": "code",
   "execution_count": 45,
   "metadata": {
    "collapsed": false
   },
   "outputs": [
    {
     "data": {
      "image/png": "[encoded data removed]",
      "text/plain": [
       "<matplotlib.figure.Figure at 0x1114470>"
      ]
     },
     "metadata": {},
     "output_type": "display_data"
    }
   ],
   "source": [
    "from auxi.tools.materialphysicalproperties.idealgas import RhoTPx\n",
    "\n",
    "# create a model object\n",
    "rhoTPx = RhoTPx()\n",
    "\n",
    "# calculate density as a function of composition for a binary Ar-H2 gas mixture\n",
    "xs_h2 = np.arange(0,1.1,0.1)\n",
    "rho = [rhoTPx(T=700, P=101325 ,x={'Ar':1-x, 'H2':x}) for x in xs_h2]\n",
    "\n",
    "# plot a graph\n",
    "plt.plot(Xs, rho, \"bo\", alpha = 0.7)\n",
    "plt.xlim((0,1))\n",
    "plt.xlabel('$x_{H_2}$ [mol]')\n",
    "plt.ylabel('$%s$ [%s]' % (rhoTPx.display_symbol, rhoTPx.units))\n",
    "plt.show()"
   ]
  }
 ],
 "metadata": {
  "kernelspec": {
   "display_name": "Python 3",
   "language": "python",
   "name": "python3"
  },
  "language_info": {
   "codemirror_mode": {
    "name": "ipython",
    "version": 3
   },
   "file_extension": ".py",
   "mimetype": "text/x-python",
   "name": "python",
   "nbconvert_exporter": "python",
   "pygments_lexer": "ipython3",
   "version": "3.5.1"
  }
 },
 "nbformat": 4,
 "nbformat_minor": 0
}
