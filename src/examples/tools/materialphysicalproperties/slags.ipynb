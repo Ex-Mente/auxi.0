{
 "cells": [
  {
   "cell_type": "markdown",
   "metadata": {},
   "source": [
    "# Working with `auxi`'s Slag Physical Property Models\n",
    "\n",
    "## Purpose\n",
    "The purpose of this example is to introduce and demonstrate the `slags` model classes in `auxi`'s material physical property tools package."
   ]
  },
  {
   "cell_type": "markdown",
   "metadata": {},
   "source": [
    "## Background\n",
    "The `slags` models provides you with the tools to calculate physical property values of liquid slags as a function of temperature and composition. The module currently contains only viscosity models, specifically those developed by Riboud and Urbain."
   ]
  },
  {
   "cell_type": "markdown",
   "metadata": {},
   "source": [
    "## Items Covered\n",
    "The following items in `auxi` are discussed and demonstrated in this example:\n",
    "* `auxi.tools.materialphysicalproperties.slags.UrbainViscosityTx`\n",
    "* `auxi.tools.materialphysicalproperties.slags.UrbainViscosityTy`\n",
    "* `auxi.tools.materialphysicalproperties.slags.RiboudViscosityTx`\n",
    "* `auxi.tools.materialphysicalproperties.slags.RiboudViscosityTy`"
   ]
  },
  {
   "cell_type": "markdown",
   "metadata": {},
   "source": [
    "## Example Scope\n",
    "In this example we will address the following aspects:\n",
    "1. Using the `UrbainViscosityTx` model\n",
    "2. Using the `UrbainViscosityTy` model\n",
    "3. Using the `RiboudViscosityTx` model\n",
    "4. Using the `RiboudViscosityTy` model\n",
    "5. Comparing results from these models with experimental data"
   ]
  },
  {
   "cell_type": "markdown",
   "metadata": {},
   "source": [
    "## Demonstrations\n",
    "\n",
    "### Using the `UrbainViscosityTx` Model\n",
    "This model calculates viscosity from temperature and composition expressed as __mole fractions__."
   ]
  },
  {
   "cell_type": "code",
   "execution_count": null,
   "metadata": {
    "collapsed": false
   },
   "outputs": [],
   "source": [
    "from auxi.tools.materialphysicalproperties.slags import UrbainViscosityTx\n",
    "\n",
    "# create an instance of the model\n",
    "urbainTx = UrbainViscosityTx()\n",
    "\n",
    "# define the material state\n",
    "T = 1873.15  # [K]\n",
    "x = {'SiO2': 0.25, 'P2O5': 0.25, 'CaO': 0.25, 'MgO':0.25}  # [mole fraction]\n",
    "\n",
    "# calculate the viscosity\n",
    "mu = urbainTx(T=T, x=x)\n",
    "print(urbainTx.symbol, mu, urbainTx.units)"
   ]
  },
  {
   "cell_type": "markdown",
   "metadata": {},
   "source": [
    "### Using the `UrbainViscosityTy` Model\n",
    "This model calculates viscosity from temperature and composition expressed as __mass fractions__."
   ]
  },
  {
   "cell_type": "code",
   "execution_count": null,
   "metadata": {
    "collapsed": false
   },
   "outputs": [],
   "source": [
    "from auxi.tools.materialphysicalproperties.slags import UrbainViscosityTy\n",
    "\n",
    "# create an instance of the model\n",
    "urbainTy = UrbainViscosityTy()\n",
    "\n",
    "# define the material state\n",
    "T = 1873.15  # [K]\n",
    "y = {'SiO2': 0.25, 'P2O5': 0.25, 'CaO': 0.25, 'MgO':0.25}  # [mass fraction]\n",
    "\n",
    "# calculate the viscosity\n",
    "mu = urbainTy(T=T, y=y)\n",
    "print(urbainTy.symbol, mu, urbainTy.units)"
   ]
  },
  {
   "cell_type": "markdown",
   "metadata": {},
   "source": [
    "### Using the `RiboudViscosityTx` Model\n",
    "This model calculates viscosity from temperature and composition expressed as __mole fractions__."
   ]
  },
  {
   "cell_type": "code",
   "execution_count": null,
   "metadata": {
    "collapsed": false
   },
   "outputs": [],
   "source": [
    "from auxi.tools.materialphysicalproperties.slags import RiboudViscosityTx\n",
    "\n",
    "# create an instance of the model\n",
    "riboudTx = RiboudViscosityTx()\n",
    "\n",
    "# define the material state\n",
    "T = 1873.15  # [K]\n",
    "x = {'SiO2': 0.25, 'P2O5': 0.25, 'CaO': 0.25, 'MgO':0.25}  # [mole fraction]\n",
    "\n",
    "# calculate the viscosity\n",
    "mu = riboudTx(T=T, x=x)\n",
    "print(riboudTx.symbol, mu, riboudTx.units)"
   ]
  },
  {
   "cell_type": "markdown",
   "metadata": {},
   "source": [
    "### Using the `RiboudViscosityTy` Model\n",
    "This model calculates viscosity from temperature and composition expressed as __mass fractions__."
   ]
  },
  {
   "cell_type": "code",
   "execution_count": null,
   "metadata": {
    "collapsed": false
   },
   "outputs": [],
   "source": [
    "from auxi.tools.materialphysicalproperties.slags import RiboudViscosityTy\n",
    "\n",
    "# create an instance of the model\n",
    "riboudTy = RiboudViscosityTy()\n",
    "\n",
    "# define the material state\n",
    "T = 1873.15  # [K]\n",
    "y = {'SiO2': 0.25, 'P2O5': 0.25, 'CaO': 0.25, 'MgO':0.25}  # [mass fraction]\n",
    "\n",
    "# calculate the viscosity\n",
    "mu = riboudTy(T=T, y=y)\n",
    "print(riboudTy.symbol, mu, riboudTy.units)"
   ]
  },
  {
   "cell_type": "markdown",
   "metadata": {},
   "source": [
    "### Comparing with Experimental Data\n",
    "Let's compare the calculation results of the Urbain and Riboud models with experimental results from literature. First, let's import a data set, and see what it looks like."
   ]
  },
  {
   "cell_type": "code",
   "execution_count": null,
   "metadata": {
    "collapsed": false
   },
   "outputs": [],
   "source": [
    "# import an experimental dataset from auxi\n",
    "from auxi.tools.materialphysicalproperties.slags import ds1\n",
    "print(ds1)"
   ]
  },
  {
   "cell_type": "markdown",
   "metadata": {},
   "source": [
    "Now let's use the data set to test the viscosity models."
   ]
  },
  {
   "cell_type": "code",
   "execution_count": null,
   "metadata": {
    "collapsed": false
   },
   "outputs": [],
   "source": [
    "# create lists to contain the calculation results\n",
    "measured = []\n",
    "urbain = []\n",
    "riboud = []\n",
    "\n",
    "# calculate viscosities for the conditions in the data set\n",
    "for index, row in ds1.data.iterrows():\n",
    "    T = row['T']\n",
    "    y = {'FeO': row['FeO'], 'P2O5': row['P2O5'], 'MnO': row['MnO'], 'SiO2': row['SiO2']}\n",
    "    measured.append(row['mu'])\n",
    "    urbain.append(urbainTy(T=T, y=y))\n",
    "    riboud.append(riboudTy(T=T, y=y))\n",
    "\n",
    "# import matplotlib so that we can plot with it\n",
    "import matplotlib.pyplot as plt\n",
    "%matplotlib inline\n",
    "\n",
    "# do the plot\n",
    "plt.plot(measured, urbain, \"bo\", alpha=0.7, label='Urbain')\n",
    "plt.plot(measured, riboud, \"ro\", alpha=0.7, label='Riboud')\n",
    "plt.xlabel('Experimental $\\mu$ [Pa.s]')\n",
    "plt.ylabel('Model $\\mu$ [Pa.s]')\n",
    "plt.legend()\n",
    "plt.show()"
   ]
  }
 ],
 "metadata": {
  "kernelspec": {
   "display_name": "Python 3",
   "language": "python",
   "name": "python3"
  },
  "language_info": {
   "codemirror_mode": {
    "name": "ipython",
    "version": 3
   },
   "file_extension": ".py",
   "mimetype": "text/x-python",
   "name": "python",
   "nbconvert_exporter": "python",
   "pygments_lexer": "ipython3",
   "version": "3.5.1"
  }
 },
 "nbformat": 4,
 "nbformat_minor": 0
}
