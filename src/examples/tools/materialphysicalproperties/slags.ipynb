{
 "cells": [
  {
   "cell_type": "markdown",
   "metadata": {},
   "source": [
    "# Working with `auxi`'s Slag Physical Property Models\n",
    "\n",
    "## Purpose\n",
    "The purpose of this example is to introduce and demonstrate the `slags` model classes in `auxi`'s material physical property tools package.\n",
    "\n",
    "## Background\n",
    "The `slags` models provides you with the tools to calculate physical property values of liquid slags as a function of temperature and composition. The module currently contains only viscosity models, specifically those developed by Riboud and Urbain.\n",
    "\n",
    "## Items Covered\n",
    "The following items in `auxi` are discussed and demonstrated in this example:\n",
    "* `auxi.tools.materialphysicalproperties.slags.UrbainViscosityTx`\n",
    "* `auxi.tools.materialphysicalproperties.slags.UrbainViscosityTy`\n",
    "* `auxi.tools.materialphysicalproperties.slags.RiboudViscosityTx`\n",
    "* `auxi.tools.materialphysicalproperties.slags.RiboudViscosityTy`\n",
    "\n",
    "## Example Scope\n",
    "In this example we will address the following aspects:\n",
    "1. Using the `UrbainViscosityTx` model\n",
    "2. Using the `UrbainViscosityTy` model\n",
    "3. Using the `RiboudViscosityTx` model\n",
    "4. Using the `RiboudViscosityTy` model\n",
    "5. Comparing results from these models with experimental data\n",
    "\n",
    "## Demonstrations\n",
    "\n",
    "### Using the `UrbainViscosityTx` Model\n",
    "This model calculates viscosity from temperature and composition expressed as __mole fractions__."
   ]
  },
  {
   "cell_type": "code",
   "execution_count": 13,
   "metadata": {
    "collapsed": false
   },
   "outputs": [
    {
     "name": "stdout",
     "output_type": "stream",
     "text": [
      "mu 0.26882140687000605 Pa.s\n"
     ]
    }
   ],
   "source": [
    "from auxi.tools.materialphysicalproperties.slags import UrbainViscosityTx\n",
    "\n",
    "# create an instance of the model\n",
    "urbainTx = UrbainViscosityTx()\n",
    "\n",
    "# define the material state\n",
    "T = 1873.15  # K\n",
    "x = {'SiO2': 0.25, 'P2O5': 0.25, 'CaO': 0.25, 'MgO':0.25}\n",
    "\n",
    "# calculate the viscosity\n",
    "mu = urbainTx(T=T, x=x)\n",
    "print(urbainTx.symbol, mu, urbainTx.units)"
   ]
  },
  {
   "cell_type": "markdown",
   "metadata": {},
   "source": [
    "### Using the `UrbainViscosityTx` Model\n",
    "This model calculates viscosity from temperature and composition expressed as __mass fractions__."
   ]
  },
  {
   "cell_type": "code",
   "execution_count": 14,
   "metadata": {
    "collapsed": false
   },
   "outputs": [
    {
     "name": "stdout",
     "output_type": "stream",
     "text": [
      "mu 0.139674760536543 Pa.s\n"
     ]
    }
   ],
   "source": [
    "from auxi.tools.materialphysicalproperties.slags import UrbainViscosityTy\n",
    "\n",
    "# create an instance of the model\n",
    "urbainTy = UrbainViscosityTy()\n",
    "\n",
    "# define the material state\n",
    "T = 1873.15  # K\n",
    "y = {'SiO2': 0.25, 'P2O5': 0.25, 'CaO': 0.25, 'MgO':0.25}\n",
    "\n",
    "# calculate the viscosity\n",
    "mu = urbainTy(T=T, y=y)\n",
    "print(urbainTy.symbol, mu, urbainTy.units)"
   ]
  },
  {
   "cell_type": "markdown",
   "metadata": {},
   "source": [
    "### Using the `RiboudViscosityTx` Model\n",
    "This model calculates viscosity from temperature and composition expressed as __mole fractions__."
   ]
  },
  {
   "cell_type": "code",
   "execution_count": 15,
   "metadata": {
    "collapsed": false
   },
   "outputs": [
    {
     "name": "stdout",
     "output_type": "stream",
     "text": [
      "mu 0.938329879600689 Pa.s\n"
     ]
    }
   ],
   "source": [
    "from auxi.tools.materialphysicalproperties.slags import RiboudViscosityTx\n",
    "\n",
    "# create an instance of the model\n",
    "riboudTx = RiboudViscosityTx()\n",
    "\n",
    "# define the material state\n",
    "T = 1873.15  # K\n",
    "x = {'SiO2': 0.25, 'P2O5': 0.25, 'CaO': 0.25, 'MgO':0.25}\n",
    "\n",
    "# calculate the viscosity\n",
    "mu = riboudTx(T=T, x=x)\n",
    "print(riboudTx.symbol, mu, riboudTx.units)"
   ]
  },
  {
   "cell_type": "markdown",
   "metadata": {},
   "source": [
    "### Using the `RiboudViscosityTx` Model\n",
    "This model calculates viscosity from temperature and composition expressed as __mass fractions__."
   ]
  },
  {
   "cell_type": "code",
   "execution_count": 16,
   "metadata": {
    "collapsed": false
   },
   "outputs": [
    {
     "name": "stdout",
     "output_type": "stream",
     "text": [
      "mu 0.12728652906349372 Pa.s\n"
     ]
    }
   ],
   "source": [
    "from auxi.tools.materialphysicalproperties.slags import RiboudViscosityTy\n",
    "\n",
    "# create an instance of the model\n",
    "riboudTy = RiboudViscosityTy()\n",
    "\n",
    "# define the material state\n",
    "T = 1873.15  # K\n",
    "y = {'SiO2': 0.25, 'P2O5': 0.25, 'CaO': 0.25, 'MgO':0.25}\n",
    "\n",
    "# calculate the viscosity\n",
    "mu = riboudTy(T=T, y=y)\n",
    "print(riboudTy.symbol, mu, riboudTy.units)"
   ]
  },
  {
   "cell_type": "markdown",
   "metadata": {},
   "source": [
    "### Comparing with Experimental Data\n",
    "Let's compare the calculation results of the Urbain and Riboud models with experimental results from literature. First, let's import a data set, and see what it looks like."
   ]
  },
  {
   "cell_type": "code",
   "execution_count": 17,
   "metadata": {
    "collapsed": false
   },
   "outputs": [
    {
     "name": "stdout",
     "output_type": "stream",
     "text": [
      "Material:         LDAC Slag\n",
      "Description:      Dynamic viscosity of LDAC slags.\n",
      "References:       slagatlas1995\n",
      "Properties:       ['Temperature', 'FeO Content', 'P2O5 Content', 'CaO Content', 'MnO Content', 'SiO2 Content', 'Viscosity']\n",
      "Symbols:          ['T', 'FeO', 'P2O5', 'CaO', 'MnO', 'SiO2', 'mu']\n",
      "Display symbols:  ['T', 'y_{FeO}', 'y_{P_2O_5}', 'y_{CaO}', 'y_{MnO}', 'y_{SiO_2}', '\\\\mu']\n",
      "Units:            ['K', 'mass fraction', 'mass fraction', 'mass fraction', 'mass fraction', 'mass fraction', 'Pa.s']\n",
      "Data:\n",
      "            T   FeO  P2O5   CaO  MnO  SiO2        mu\n",
      "0   1873.6290   5.9  25.2  51.4  5.0   7.0  0.206048\n",
      "1   1881.6345   5.9  25.2  51.4  5.0   7.0  0.116309\n",
      "2   1888.0383   5.9  25.2  51.4  5.0   7.0  0.082964\n",
      "3   1898.9637   5.9  25.2  51.4  5.0   7.0  0.058854\n",
      "4   1921.3553   5.9  25.2  51.4  5.0   7.0  0.050925\n",
      "5   1951.3102   5.9  25.2  51.4  5.0   7.0  0.041314\n",
      "6   1712.4333  15.5  16.2  52.0  6.6   4.7  0.400230\n",
      "7   1720.5559  15.5  16.2  52.0  6.6   4.7  0.236822\n",
      "8   1750.3857  15.5  16.2  52.0  6.6   4.7  0.115554\n",
      "9   1764.0749  15.5  16.2  52.0  6.6   4.7  0.064984\n",
      "10  1790.7444  15.5  16.2  52.0  6.6   4.7  0.029454\n",
      "11  1915.6443  15.5  16.2  52.0  6.6   4.7  0.041314\n",
      "12  1939.5268  15.5  16.2  52.0  6.6   4.7  0.034339\n",
      "13  1952.2448  15.5  16.2  52.0  6.6   4.7  0.024053\n",
      "14  1965.5576  15.5  16.2  52.0  6.6   4.7  0.020100\n",
      "15  1697.7723  34.8   8.5  45.0  4.6   2.9  0.301152\n",
      "16  1706.4594  34.8   8.5  45.0  4.6   2.9  0.163071\n",
      "17  1739.3052  34.8   8.5  45.0  4.6   2.9  0.047000\n",
      "18  1762.8982  34.8   8.5  45.0  4.6   2.9  0.044258\n",
      "19  1799.5034  34.8   8.5  45.0  4.6   2.9  0.036411\n",
      "20  1822.4862  34.8   8.5  45.0  4.6   2.9  0.037119\n",
      "21  1860.8949  34.8   8.5  45.0  4.6   2.9  0.036189\n",
      "22  1884.1855  34.8   8.5  45.0  4.6   2.9  0.033445\n",
      "23  1918.9653  34.8   8.5  45.0  4.6   2.9  0.032494\n"
     ]
    }
   ],
   "source": [
    "# import an experimental dataset from auxi\n",
    "from auxi.tools.materialphysicalproperties.slags import ds1\n",
    "print(ds1)"
   ]
  },
  {
   "cell_type": "markdown",
   "metadata": {},
   "source": [
    "Now let's use the data set to test the viscosity models."
   ]
  },
  {
   "cell_type": "code",
   "execution_count": 20,
   "metadata": {
    "collapsed": false
   },
   "outputs": [
    {
     "data": {
      "image/png": "[encoded data removed]",
      "text/plain": [
       "<matplotlib.figure.Figure at 0x7cc8f30>"
      ]
     },
     "metadata": {},
     "output_type": "display_data"
    }
   ],
   "source": [
    "# create lists to contain the calculation results\n",
    "measured = []\n",
    "urbain = []\n",
    "riboud = []\n",
    "\n",
    "# calculate viscosities for the conditions in the data set\n",
    "for index, row in ds1.data.iterrows():\n",
    "    T = row['T']\n",
    "    y = {'FeO': row['FeO'], 'P2O5': row['P2O5'], 'MnO': row['MnO'],\n",
    "         'SiO2': row['SiO2']}\n",
    "    measured.append(row['mu'])\n",
    "    urbain.append(urbainTy(T=T, y=y))\n",
    "    riboud.append(riboudTy(T=T, y=y))\n",
    "\n",
    "# import matplotlib so that we can plot with it\n",
    "import matplotlib.pyplot as plt\n",
    "%matplotlib inline\n",
    "\n",
    "# do the plot\n",
    "plt.plot(measured, urbain, \"bo\", alpha = 0.7, label='Urbain')\n",
    "plt.plot(measured, riboud, \"ro\", alpha = 0.7, label='Riboud')\n",
    "plt.xlabel('Experimental $\\mu$ [Pa.s]')\n",
    "plt.ylabel('Model $\\mu$ [Pa.s]')\n",
    "plt.legend()\n",
    "plt.show()"
   ]
  }
 ],
 "metadata": {
  "kernelspec": {
   "display_name": "Python 3",
   "language": "python",
   "name": "python3"
  },
  "language_info": {
   "codemirror_mode": {
    "name": "ipython",
    "version": 3
   },
   "file_extension": ".py",
   "mimetype": "text/x-python",
   "name": "python",
   "nbconvert_exporter": "python",
   "pygments_lexer": "ipython3",
   "version": "3.5.1"
  }
 },
 "nbformat": 4,
 "nbformat_minor": 0
}
