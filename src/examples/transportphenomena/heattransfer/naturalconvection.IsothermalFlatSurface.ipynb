{
 "cells": [
  {
   "cell_type": "markdown",
   "metadata": {
    "collapsed": true
   },
   "source": [
    "# Working with `auxi`'s Heat Transfer `naturalconvection.IsothermalFlatSurface` Models\n",
    "\n",
    "## Purpose\n",
    "The purpose of this example is to introduce and demonstrate the `IsothermalFlatSurface` class in `auxi`'s `naturalconvection` module.\n",
    "\n",
    "## Background\n",
    "It is often needed to calculate heat losses from surfaces exposed to natural convection conditions. These calculations requires the determination of a heat transfer coefficient. The coefficients are based on empirical correlations determined from experimental measurements. To save the time required to locate the appropriate correlations from literature, `auxi`'s `naturalconvection` module provides models to make doing these calculations faster, easier, and more reliable.\n",
    "\n",
    "## Items Covered\n",
    "The following items in `auxi` are discussed and demonstrated in this example:\n",
    "* `auxi.tools.transportphenomena.heattransfer.naturalconvection.IsothermalFlatSurface`\n",
    "\n",
    "## Example Scope\n",
    "In this example we will address the following aspects:\n",
    "1. Importing the `IsothermalFlatSurface` class.\n",
    "2. Introduction to `IsothermalFlatSurface` regions mapping diagram.\n",
    "3. Using `Nu_x` to calculate the local Nusselt number.\n",
    "4. Using `Nu_L` to calculate the average Nusselt number.\n",
    "5. Using `h_x` to calculate the local heat transfer coefficient..\n",
    "6. Using `h_L` to calculate the average heat transfer coefficient.\n",
    "\n",
    "## Demonstrations\n",
    "\n",
    "### Importing the `IsothermalFlatSurface` Class\n",
    "Before you can use that `IsothermalFlatSurface` class, you need to import it from `auxi`. We also need to import a material that we can use as the fluid for our calculations. In this case we will use air, and import it from the `materialphysicalproperties.gases` module."
   ]
  },
  {
   "cell_type": "code",
   "execution_count": 1,
   "metadata": {
    "collapsed": false
   },
   "outputs": [],
   "source": [
    "from auxi.tools.transportphenomena.heattransfer.naturalconvection import IsothermalFlatSurface\n",
    "from auxi.tools.materialphysicalproperties.gases import air"
   ]
  },
  {
   "cell_type": "markdown",
   "metadata": {},
   "source": [
    "You are now ready to use the `IsothermalFlatSurface` class.\n",
    "\n",
    "### Introduction to `IsothermalFlatSurface` Regions\n",
    "The different correlations used in the `IsothermalFlatSurface` model apply to specific regions in the 2D Ra-theta coordinate system. To gain some insight into which regions are covered with proven correlations (grey), and which are covered by interpolation or extrapolation (red), these regions can be plotted as follows."
   ]
  },
  {
   "cell_type": "code",
   "execution_count": 2,
   "metadata": {
    "collapsed": false
   },
   "outputs": [
    {
     "data": {
      "image/png": "[encoded data removed]",
      "text/plain": [
       "<matplotlib.figure.Figure at 0x7e94b90>"
      ]
     },
     "metadata": {},
     "output_type": "display_data"
    }
   ],
   "source": [
    "from matplotlib import pyplot as plt\n",
    "%matplotlib inline\n",
    "\n",
    "model = IsothermalFlatSurface(air, True, None)\n",
    "model.plot_regions()"
   ]
  },
  {
   "cell_type": "markdown",
   "metadata": {},
   "source": [
    "### Doing Convection Heat Transfer Calculations\n",
    "Now we can use the model and the fluid material to estimate the heat transferred from a flat surface."
   ]
  },
  {
   "cell_type": "code",
   "execution_count": 4,
   "metadata": {
    "collapsed": false
   },
   "outputs": [
    {
     "name": "stdout",
     "output_type": "stream",
     "text": [
      "Nu_x 60.9052517967\n",
      "Nu_L 81.2070023955\n",
      "h_x 4.00230076002 W/m2/K\n",
      "h_L 5.33640101336 W/m2/K\n",
      "q_x 24.0138045601 W\n",
      "q_L 32.0184060801 W\n"
     ]
    }
   ],
   "source": [
    "# create an instance of the model, with air as fluid\n",
    "model = IsothermalFlatSurface(air)\n",
    "\n",
    "# define the heat transfer conditions\n",
    "L = 0.4  # [m] length of heat transfer surface\n",
    "w = 0.5  # [m] width of heat transfer surface\n",
    "A = L*w  # [m2] area of heat transfer surface\n",
    "θ = 55.0  # [°] angle of heat transfer surface with vertical\n",
    "Ts = 313.0  # [K] surface temperature\n",
    "Tf = 283.0  # [K] fluid temperature\n",
    "\n",
    "# calculate the heat transfer coefficient parameters\n",
    "Nu_x = model.Nu_x(L, θ, Ts, T=Tf)  # local Nusselt number\n",
    "Nu_L = model.Nu_L(L, θ, Ts, T=Tf)  # average Nusselt number\n",
    "h_x = model.h_x(L, θ, Ts, T=Tf)  # [W/m2/K] local heat transfer coefficient\n",
    "h_L = model.h_L(L, θ, Ts, T=Tf)  # [W/m2/K] average heat transfer coefficient\n",
    "q_x = h_x * A * (Ts - Tf)  # [W/m2]\n",
    "q_L = h_L * A * (Ts - Tf)  # [W/m2]\n",
    "\n",
    "# print the results\n",
    "print('Nu_x', Nu_x)\n",
    "print('Nu_L', Nu_L)\n",
    "print('h_x', h_x, \"W/m2/K\")\n",
    "print('h_L', h_L, \"W/m2/K\")\n",
    "print('q_x', q_x, \"W\")\n",
    "print('q_L', q_L, \"W\")"
   ]
  }
 ],
 "metadata": {
  "kernelspec": {
   "display_name": "Python 3",
   "language": "python",
   "name": "python3"
  },
  "language_info": {
   "codemirror_mode": {
    "name": "ipython",
    "version": 3
   },
   "file_extension": ".py",
   "mimetype": "text/x-python",
   "name": "python",
   "nbconvert_exporter": "python",
   "pygments_lexer": "ipython3",
   "version": "3.5.1"
  }
 },
 "nbformat": 4,
 "nbformat_minor": 0
}
